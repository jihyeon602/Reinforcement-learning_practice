{
 "cells": [
  {
   "attachments": {},
   "cell_type": "markdown",
   "metadata": {},
   "source": [
    "# [실습6] 인공지능을 활용한 건설로봇 Motion Control (정답)\n",
    "---"
   ]
  },
  {
   "attachments": {},
   "cell_type": "markdown",
   "metadata": {},
   "source": [
    "## 실습 목표\n",
    "\n",
    "- Gymnasium 라이브러리를 사용하는 방법을 학습합니다.\n",
    "- Inverted pendulum, Cartpole 환경을 사용하는 방법을 학습합니다.\n",
    "- 고전적인 제어기로 비선형 모델들을 제어해봅니다.\n",
    "- 강화학습 알고리즘을 직접 구현해보고 학습시켜봅니다.\n",
    "- 여러가지 강화학습 알고리즘과 성능을 비교해봅니다.\n",
    "\n",
    "---"
   ]
  },
  {
   "attachments": {},
   "cell_type": "markdown",
   "metadata": {},
   "source": [
    "## 실습 목차\n",
    "\n",
    "1. **Gymnasium 라이브러리 사용하기** \n",
    "\n",
    "2. **고전 제어기로 비선형 모델 제어** \n",
    "\n",
    "3. **모델 기반 제어기로 비선형 모델 제어**\n",
    "\n",
    "4. **Reinforce 강화학습 알고리즘 적용** \n",
    "\n",
    "5. **Actor-Critic 강화학습 알고리즘 적용** \n",
    "\n",
    "6. **A2C 강화학습 알고리즘 적용**\n",
    "---"
   ]
  },
  {
   "attachments": {},
   "cell_type": "markdown",
   "metadata": {},
   "source": [
    "## 실습 개요\n",
    "\n",
    "이번 실습에서는 여러가지 강화학습 알고리즘을 직접 구현하고 학습하는 것을 목표로 합니다. 이를 위해 Gymnasium 라이브러리를 사용하는 방법을 학습합니다.\n",
    "\n",
    "---"
   ]
  },
  {
   "attachments": {},
   "cell_type": "markdown",
   "metadata": {},
   "source": [
    "## 1. Gymnasium 라이브러리 사용하기"
   ]
  },
  {
   "attachments": {},
   "cell_type": "markdown",
   "metadata": {},
   "source": [
    "---\n",
    "\n",
    "### 1.1 필수 라이브러리 불러오기\n",
    "강화학습 알고리즘을 학습하고 테스트해보기 위해 여러 가지 시뮬레이션을 사용할 수 있습니다.\n",
    "\n",
    "그 중, 가장 간단하고 추가적인 엔진 설치가 필요 없는 Gymnasium 라이브러리를 소개합니다.\n",
    "\n",
    "Gymnasium은 시뮬레이터와 연동시켜 강화학습 알고리즘을 학습시키기 위한 기본적인 라이브러리입니다. 하지만, 추가적인 시뮬레이터가 없더라도, 기본적으로 Gymnasium 내부에서 제공하고 있는 간단한 시뮬레이션들이 있습니다. \n",
    "\n",
    "이번 실습에서는 Inverted Pendulum과 Cartpole 모델을 사용하겠습니다. 이 두 비선형 모델은 강화학습 뿐만 아니라 대부분의 로봇 제어기의 벤치마크로 활용되는 대표적인 모델들입니다."
   ]
  },
  {
   "cell_type": "code",
   "execution_count": 1,
   "metadata": {},
   "outputs": [],
   "source": [
    "## 라이브러리 불러오기\n",
    "import numpy as np\n",
    "import pandas as pd\n",
    "import matplotlib.pyplot as plt \n",
    "import gymnasium as gym\n",
    "from IPython import display\n",
    "\n",
    "random_seed = 42\n",
    "np.random.seed(random_seed)\n"
   ]
  },
  {
   "cell_type": "markdown",
   "metadata": {},
   "source": [
    "---\n",
    "### 1.2 Inverted Pendulum 모델 사용하기\n",
    "Inverted Pendulum 모델과 상호작용 하는 방법을 소개합니다."
   ]
  },
  {
   "cell_type": "markdown",
   "metadata": {},
   "source": [
    "Jupyter notebook 환경에서 Gymnasium의 상호작용 시각화 윈도우를 확인하려면 별도의 코드를 사용해야 합니다. IPython의 display 기능을 사용할 수 있도록 함수를 작성합니다."
   ]
  },
  {
   "cell_type": "code",
   "execution_count": 2,
   "metadata": {},
   "outputs": [],
   "source": [
    "def render_env(env):\n",
    "    plt.figure(figsize=(5, 5))\n",
    "    plt.imshow(env.render())\n",
    "    plt.axis('off')\n",
    "    display.display(plt.gcf())\n",
    "    display.clear_output(wait=True)\n",
    "    plt.close()"
   ]
  },
  {
   "cell_type": "markdown",
   "metadata": {},
   "source": [
    "상호작용할 수 있는 시뮬레이션을 환경(env)라고 합니다. 라이브러리 내에 내장되어 있는 invertd pendulum 모델을 불러옵니다.\n",
    "\n",
    "Env를 설정하면 로봇의 모델(동역학), 센서(observation), 제어기(action_space)등이 결정됩니다."
   ]
  },
  {
   "cell_type": "code",
   "execution_count": 3,
   "metadata": {},
   "outputs": [
    {
     "name": "stdout",
     "output_type": "stream",
     "text": [
      "Observation Space: Box([-1. -1. -8.], [1. 1. 8.], (3,), float32)\n",
      "Action Space: Box(-2.0, 2.0, (1,), float32)\n"
     ]
    }
   ],
   "source": [
    "env = gym.make('Pendulum-v1', render_mode=\"rgb_array\")\n",
    "\n",
    "print(\"Observation Space:\", env.observation_space)\n",
    "print(\"Action Space:\", env.action_space)"
   ]
  },
  {
   "cell_type": "markdown",
   "metadata": {},
   "source": [
    "설정된 환경을 시각화해봅니다."
   ]
  },
  {
   "cell_type": "code",
   "execution_count": 4,
   "metadata": {},
   "outputs": [
    {
     "data": {
      "image/png": "[encoded data removed]",
      "text/plain": [
       "<Figure size 500x500 with 1 Axes>"
      ]
     },
     "metadata": {},
     "output_type": "display_data"
    }
   ],
   "source": [
    "observation = env.reset(seed=random_seed)\n",
    "render_env(env)"
   ]
  },
  {
   "cell_type": "markdown",
   "metadata": {},
   "source": [
    "환경에 제어 입력을 가해보겠습니다. 랜덤한 제어 입력을 샘플한 후, 이를 환경에 가해봅니다.\n",
    "\n",
    "동역학에 제어 입력이 입력된 후, 다음 로봇 상태가 계산됩니다. \n",
    "\n",
    "연속된 동작을 확인하기 위해 100 번의 제어 입력을 가해보겠습니다."
   ]
  },
  {
   "cell_type": "code",
   "execution_count": 5,
   "metadata": {},
   "outputs": [
    {
     "data": {
      "image/png": "[encoded data removed]",
      "text/plain": [
       "<Figure size 500x500 with 1 Axes>"
      ]
     },
     "metadata": {},
     "output_type": "display_data"
    }
   ],
   "source": [
    "for _ in range(100):\n",
    "    action = env.action_space.sample()  # Random action for demonstration\n",
    "    observation, reward, terminated, truncated, info = env.step(action)\n",
    "    render_env(env)\n",
    "    if terminated or truncated:\n",
    "        observation = env.reset(seed=random_seed)"
   ]
  },
  {
   "cell_type": "markdown",
   "metadata": {},
   "source": [
    "---\n",
    "### 1.3 Cartpole 모델 사용하기\n",
    "Cartpole 모델과 상호작용 하는 방법을 소개합니다. 기본적인 방법은 동일합니다."
   ]
  },
  {
   "cell_type": "code",
   "execution_count": 6,
   "metadata": {},
   "outputs": [
    {
     "name": "stdout",
     "output_type": "stream",
     "text": [
      "Observation Space: Box([-4.8               -inf -0.41887903        -inf], [4.8               inf 0.41887903        inf], (4,), float32)\n",
      "Action Space: Discrete(2)\n"
     ]
    }
   ],
   "source": [
    "env = gym.make('CartPole-v1', render_mode=\"rgb_array\")\n",
    "\n",
    "print(\"Observation Space:\", env.observation_space)\n",
    "print(\"Action Space:\", env.action_space)"
   ]
  },
  {
   "cell_type": "code",
   "execution_count": 9,
   "metadata": {},
   "outputs": [
    {
     "data": {
      "image/png": "[encoded data removed]",
      "text/plain": [
       "<Figure size 500x500 with 1 Axes>"
      ]
     },
     "metadata": {},
     "output_type": "display_data"
    }
   ],
   "source": [
    "observation = env.reset(seed=random_seed)\n",
    "render_env(env)"
   ]
  },
  {
   "cell_type": "markdown",
   "metadata": {},
   "source": [
    "### [TODO] 설정한 환경 env를 한 스텝 실행해보세요. 한 스텝을 진행하기 위해서는 제어 입력을 인자로 넣어줘야 합니다."
   ]
  },
  {
   "cell_type": "code",
   "execution_count": 10,
   "metadata": {},
   "outputs": [
    {
     "data": {
      "image/png": "[encoded data removed]",
      "text/plain": [
       "<Figure size 500x500 with 1 Axes>"
      ]
     },
     "metadata": {},
     "output_type": "display_data"
    }
   ],
   "source": [
    "for _ in range(100):\n",
    "    action = env.action_space.sample()  # Random action for demonstration\n",
    "    observation, reward, terminated, truncated, info = env.step(action)\n",
    "    render_env(env)\n",
    "    if terminated or truncated:\n",
    "        observation = env.reset(seed=random_seed)"
   ]
  },
  {
   "cell_type": "markdown",
   "metadata": {},
   "source": [
    "Cartpole은 가운대의 막대가 떨어지면 실패로 간주합니다. 실패를 하더라도 환경을 리셋하지 않게하면 보다 연속된 동작을 볼 수 있습니다."
   ]
  },
  {
   "cell_type": "code",
   "execution_count": 11,
   "metadata": {},
   "outputs": [
    {
     "data": {
      "image/png": "[encoded data removed]",
      "text/plain": [
       "<Figure size 500x500 with 1 Axes>"
      ]
     },
     "metadata": {},
     "output_type": "display_data"
    }
   ],
   "source": [
    "for _ in range(100):\n",
    "    action = env.action_space.sample()  # Random action for demonstration\n",
    "    observation, reward, terminated, truncated, info = env.step(action)\n",
    "    render_env(env)"
   ]
  },
  {
   "cell_type": "markdown",
   "metadata": {},
   "source": [
    "---\n",
    "## 2. 고전 제어기로 비선형 모델 제어\n",
    "\n",
    "---\n",
    "### 2.1 고전 제어기 설계\n",
    "강화학습 실습에 들어가기 앞서, 고전 제어기의 한계점을 분석해보겠습니다.\n",
    "\n",
    "고전 제어기는 일반적으로 목표하는 desired state와 현재 상태 current state의 차이를 에러로 정의합니다. 그 에러를 최소화하는 것을 제어기의 목표로 설정합니다.\n",
    "\n",
    "고전 제어기는 PID, LQR, SMC 등 많은 방법들이 연구되어 왔습니다.\n",
    "\n",
    "가장 간단한 불연속한 제어기부터 설계해보겠습니다.\n"
   ]
  },
  {
   "cell_type": "code",
   "execution_count": 12,
   "metadata": {},
   "outputs": [
    {
     "data": {
      "image/png": "[encoded data removed]",
      "text/plain": [
       "<Figure size 500x500 with 1 Axes>"
      ]
     },
     "metadata": {},
     "output_type": "display_data"
    }
   ],
   "source": [
    "\n",
    "# Create the Pendulum environments\n",
    "env_pendulum = gym.make('Pendulum-v1', render_mode='rgb_array')\n",
    "obs = env_pendulum.reset(seed=random_seed)[0]\n",
    "num_steps = 200\n",
    "\n",
    "# Simple controller for Pendulum\n",
    "def simple_controller_pendulum(obs, max_torque=2.0):\n",
    "    # observation에서 theta를 추출\n",
    "    cos_theta = obs[0]\n",
    "    sin_theta = obs[1]\n",
    "    theta = np.arctan2(sin_theta, cos_theta)\n",
    "\n",
    "    if theta > 0.0:\n",
    "        # pendulum이 왼쪽에 있을 때, 시계 방향으로 힘을 가함\n",
    "        action = [-max_torque]\n",
    "    else:\n",
    "        # pendulum이 오른쪽에 있을 때, 반시계 방향으로 힘을 가함\n",
    "        action = [max_torque]\n",
    "    return action\n",
    "\n",
    "episode_reward = 0\n",
    "for step in range(num_steps):\n",
    "    action = simple_controller_pendulum(obs, max_torque=1.0)\n",
    "\n",
    "    obs, reward, terminated, truncated, info = env_pendulum.step(action)\n",
    "    episode_reward += reward\n",
    "\n",
    "    render_env(env_pendulum)\n",
    "\n",
    "env_pendulum.close()\n"
   ]
  },
  {
   "cell_type": "markdown",
   "metadata": {},
   "source": [
    "간단한 논리로 만든 제어기는 최대 토크가 1일 때는 전혀 작동하지 않는 것을 확인할 수 있습니다.\n",
    "\n",
    "환경에서 허용하는 최대 토크는 2입니다. 2를 가하면 중력의 도움없이도 강제로 막대를 제어할 수 있습니다."
   ]
  },
  {
   "cell_type": "code",
   "execution_count": 15,
   "metadata": {},
   "outputs": [
    {
     "data": {
      "image/png": "[encoded data removed]",
      "text/plain": [
       "<Figure size 500x500 with 1 Axes>"
      ]
     },
     "metadata": {},
     "output_type": "display_data"
    }
   ],
   "source": [
    "obs = env_pendulum.reset(seed=random_seed)[0]\n",
    "num_steps = 200\n",
    "\n",
    "episode_reward = 0\n",
    "for step in range(num_steps):\n",
    "    action = simple_controller_pendulum(obs, max_torque=2.0)\n",
    "\n",
    "    obs, reward, terminated, truncated, info = env_pendulum.step(action)\n",
    "    episode_reward += reward\n",
    "\n",
    "    render_env(env_pendulum)\n",
    "\n",
    "env_pendulum.close()"
   ]
  },
  {
   "cell_type": "markdown",
   "metadata": {},
   "source": [
    "\n",
    "\n",
    "---\n",
    "### 2.2 PID 제어기 설계\n",
    "\n",
    "다음은 PID 제어기를 설계해보겠습니다."
   ]
  },
  {
   "cell_type": "code",
   "execution_count": 16,
   "metadata": {},
   "outputs": [],
   "source": [
    "class PIDController:\n",
    "    def __init__(self, Kp, Ki, Kd):\n",
    "        self.Kp = Kp\n",
    "        self.Ki = Ki\n",
    "        self.Kd = Kd\n",
    "        self.integral = 0\n",
    "        self.previous_error = 0\n",
    "\n",
    "    def reset(self):\n",
    "        self.integral = 0\n",
    "        self.previous_error = 0\n",
    "\n",
    "    def compute(self, error, dt):\n",
    "        self.integral += error * dt\n",
    "        derivative = (error - self.previous_error) / dt\n",
    "        output = self.Kp * error + self.Ki * self.integral + self.Kd * derivative\n",
    "        self.previous_error = error\n",
    "        return output"
   ]
  },
  {
   "cell_type": "markdown",
   "metadata": {},
   "source": [
    "PID 게인을 설정합니다.\n",
    "\n",
    "### [TODO] PID 게인을 설정합니다. P,I,D 게인을 각각 5.0, 0.01, 0.5 로 설정합니다."
   ]
  },
  {
   "cell_type": "code",
   "execution_count": 17,
   "metadata": {},
   "outputs": [],
   "source": [
    "# PID parameters\n",
    "Kp = 5.0\n",
    "Ki = 0.01\n",
    "Kd = 0.5\n",
    "\n",
    "# Create the PID controller\n",
    "pid = PIDController(Kp, Ki, Kd)"
   ]
  },
  {
   "cell_type": "code",
   "execution_count": 18,
   "metadata": {},
   "outputs": [
    {
     "data": {
      "image/png": "[encoded data removed]",
      "text/plain": [
       "<Figure size 500x500 with 1 Axes>"
      ]
     },
     "metadata": {},
     "output_type": "display_data"
    }
   ],
   "source": [
    "\n",
    "# Create the Pendulum environments\n",
    "env_pendulum = gym.make('Pendulum-v1', render_mode='rgb_array')\n",
    "obs = env_pendulum.reset(seed=random_seed)[0]\n",
    "num_steps = 200\n",
    "\n",
    "\n",
    "def pid_controller_pendulum(obs, pid, target_theta=0, dt=0.02, max_torque=2.0):\n",
    "    # observation에서 theta를 추출\n",
    "    cos_theta = obs[0]\n",
    "    sin_theta = obs[1]\n",
    "    theta = np.arctan2(sin_theta, cos_theta)\n",
    "\n",
    "    error = target_theta - theta\n",
    "    torque = pid.compute(error, dt)\n",
    "    return [np.clip(torque, -max_torque, max_torque)] \n",
    "\n",
    "\n",
    "episode_reward = 0\n",
    "for step in range(num_steps):\n",
    "    # Get the action from the simple controller\n",
    "    action = pid_controller_pendulum(obs, pid, max_torque=1.0)\n",
    "\n",
    "    # Take a step in the environment\n",
    "    obs, reward, terminated, truncated, info = env_pendulum.step(action)\n",
    "    episode_reward += reward\n",
    "\n",
    "    # Render the environment\n",
    "    render_env(env_pendulum)\n",
    "\n",
    "    #print(f\"Step {step+1}: Reward = {episode_reward:.2f}\")\n",
    "\n",
    "# Close the Pendulum environment\n",
    "env_pendulum.close()\n"
   ]
  },
  {
   "cell_type": "markdown",
   "metadata": {},
   "source": [
    "PID 제어기는 모델을 사용하지 않는 제어기입니다. 따라서, 비선형 모델일 경우 성능이 좋지 않습니다.\n",
    "\n",
    "PID가 좋은 성능을 발휘할 때는 모델이 선형에 가까운 경우, 즉 이 환경에서는 막대가 이미 안정점 근처에 있는 경우입니다.\n",
    "\n",
    "Gymnasium에서는 초기 상태를 설정하는 것이 불가능합니다. 위의 코드를 여러번 실행하면 PID가 제어에 성공하는 케이스를 확인할 수 있습니다."
   ]
  },
  {
   "cell_type": "markdown",
   "metadata": {},
   "source": [
    "---\n",
    "## 3. 모델 기반 제어기로 비선형 모델 제어\n",
    "\n",
    "---\n",
    "### 3.1 모델 기반 제어기 소개\n",
    "고전 제어기의 한계는 모델을 고려하지 않기 때문에 비선형 모델에서 좋은 제어 성능을 발휘할 수 없다는 것입니다.\n",
    "\n",
    "이번에는 모델을 사용하는 현대 제어기를 사용해보겠습니다.\n",
    "\n",
    "현대 제어기 중 실제로 가장 많이 사용되는 제어기는 MPC 기반의 제어기들입니다.\n",
    "\n",
    "MPC는 모델을 이용하여 미래에 모델이 어떻게 움직이는지 분석하여 최적화를 수행합니다. 따라서 비선형 모델을 효과적으로 제어할 수 있습니다.\n",
    "\n",
    "기울기 기반의 MPC인 iLQR, DDP가 잘 알려져있습니다. 기울기 기반의 MPC보다 더 빠르게 최적화를 수행할 수 있는 샘플링 기반 MPC를 실습으로 사용해보겠습니다.\n",
    "\n",
    "Model Predictive Path Integral Control (MPPI) 제어기는 여러개의 제어입력 궤적을 샘플링하여 동시에 궤적을 계산합니다. 이를 통해 최적의 제어입력을 계산할 수 있습니다. 이때, 여러개의 궤적을 GPU로 동시에 시뮬레이션할 수 있기 때문에, 실시간으로 복잡한 모델을 제어할 수 있는 강력한 제어기로 알려져있습니다.\n",
    "\n",
    "본 실습에서는 100개의 적은 궤적만 사용하므로 cpu로 진행해보겠습니다.\n"
   ]
  },
  {
   "cell_type": "code",
   "execution_count": 21,
   "metadata": {},
   "outputs": [],
   "source": [
    "from pytorch_mppi import MPPI\n",
    "import torch\n",
    "import math\n",
    "\n",
    "torch.manual_seed(random_seed)\n",
    "\n",
    "TIMESTEPS = 15  # 예측할 미래 궤적의 시간 수\n",
    "N_SAMPLES = 100  # 동시에 샘플링할 궤적 수\n",
    "ACTION_LOW = -1.0\n",
    "ACTION_HIGH = 1.0\n",
    "\n",
    "d = \"cpu\"\n",
    "dtype = torch.double\n",
    "nx = 2\n",
    "\n",
    "noise_sigma = torch.tensor(10, device=d, dtype=dtype)\n",
    "# noise_sigma = torch.tensor([[10, 0], [0, 10]], device=d, dtype=dtype)\n",
    "lambda_ = 1.\n",
    "\n",
    "# pendulum의 동역학\n",
    "def dynamics(state, perturbed_action):\n",
    "        # true dynamics from gym\n",
    "        th = state[:, 0].view(-1, 1)\n",
    "        thdot = state[:, 1].view(-1, 1)\n",
    "\n",
    "        g = 10\n",
    "        m = 1\n",
    "        l = 1\n",
    "        dt = 0.05\n",
    "\n",
    "        u = perturbed_action\n",
    "        u = torch.clamp(u, -2, 2)\n",
    "\n",
    "        newthdot = thdot + (3 * g / (2 * l) * np.sin(th) + 3.0 / (m * l ** 2) * u) * dt\n",
    "        newthdot = np.clip(newthdot, -8, 8)\n",
    "        newth = th + newthdot * dt\n",
    "\n",
    "        state = torch.cat((newth, newthdot), dim=1)\n",
    "        return state\n",
    "\n",
    "def angle_normalize(x):\n",
    "    return (((x + math.pi) % (2 * math.pi)) - math.pi)\n",
    "\n",
    "\n",
    "def running_cost(state, action):\n",
    "    theta = state[:, 0]\n",
    "    theta_dt = state[:, 1]\n",
    "    action = action[:, 0]\n",
    "    cost = angle_normalize(theta) ** 2 + 0.1 * theta_dt ** 2\n",
    "    return cost\n",
    "\n",
    "\n",
    "# create controller with chosen parameters\n",
    "ctrl = MPPI(dynamics, running_cost, nx, noise_sigma, num_samples=N_SAMPLES, horizon=TIMESTEPS,\n",
    "            lambda_=lambda_, device=d,\n",
    "            u_min=torch.tensor(ACTION_LOW, dtype=torch.double, device=d),\n",
    "            u_max=torch.tensor(ACTION_HIGH, dtype=torch.double, device=d))\n"
   ]
  },
  {
   "cell_type": "markdown",
   "metadata": {},
   "source": [
    "\n",
    "---\n",
    "### 3.2 Inverted Pendulum 모델에 적용\n",
    "pendulum 모델에 적용해보겠습니다."
   ]
  },
  {
   "cell_type": "code",
   "execution_count": 23,
   "metadata": {},
   "outputs": [
    {
     "name": "stdout",
     "output_type": "stream",
     "text": [
      "Step 200: Reward = -366.24\n"
     ]
    }
   ],
   "source": [
    "# Create the Pendulum environments\n",
    "env_pendulum = gym.make('Pendulum-v1', render_mode='rgb_array')\n",
    "obs = env_pendulum.reset(seed=random_seed)[0]\n",
    "num_steps = 200\n",
    "\n",
    "episode_reward = 0\n",
    "for step in range(num_steps):\n",
    "    # observation에서 theta를 추출\n",
    "    cos_theta = obs[0]\n",
    "    sin_theta = obs[1]\n",
    "    theta = np.arctan2(sin_theta, cos_theta)\n",
    "    obs = np.array([[theta, obs[2]]])\n",
    "\n",
    "    action = ctrl.command(obs)\n",
    "    action = action.cpu().numpy()\n",
    "\n",
    "    # Take a step in the environment\n",
    "    obs, reward, terminated, truncated, info = env_pendulum.step(action)\n",
    "    episode_reward += reward\n",
    "\n",
    "    # Render the environment\n",
    "    render_env(env_pendulum)\n",
    "\n",
    "    print(f\"Step {step+1}: Reward = {episode_reward:.2f}\")\n",
    "\n",
    "# Close the Pendulum environment\n",
    "env_pendulum.close()"
   ]
  },
  {
   "cell_type": "markdown",
   "metadata": {},
   "source": [
    "최대 제어 토크를 1로 설정해도, 중력을 이용해 막대를 스윙하며 제어에 성공하는 것을 볼 수 있습니다.\n",
    "\n",
    "모델 기반 제어기와 달리, 시스템의 모델을 몰라도 제어가 가능한 강화학습 알고리즘들이 주목을 받고 있습니다.\n",
    "\n",
    "또, 데이터가 충분하다면, 모델이 불확실하고 시간에 따라 변하는 상황에서도 강건하게 제어를 할 수 있습니다.\n",
    "\n",
    "그리고 제어 입력이 이산화되어도 효과적으로 제어를 할 수 있다고 알려져있습니다. 이를 실습을 통해 알아보겠습니다."
   ]
  },
  {
   "cell_type": "markdown",
   "metadata": {},
   "source": [
    "---\n",
    "## 4. Reinforce 강화학습 알고리즘 적용\n",
    "\n",
    "---\n",
    "### 4.1 Reinforce 알고리즘 구현\n",
    "Reinforce 알고리즘은 강화학습의 가장 기본이 되는 알고리즘입니다.\n",
    "\n",
    "강화학습에서 가장 기본으로 사용되는 라이브러리인 pytorch를 이용해 Reinforce 알고리즘을 구현해보겠습니다.\n",
    "\n",
    "Reinforce 알고리즘을 이용해 inverted pendulum 환경을 학습해보겠습니다.\n",
    "\n",
    "Reinforce는 가장 기초적인 알고리즘으로, 학습이 느리고 다양한 환경에서 잘 동작하지 않는다는 단점이 있습니다.\n",
    "\n",
    "Inverted pendulum 문제는 제어 공간이 연속적입니다. 연속적인 제어 공간을 다룰 수 있는 여러가지 강화학습 알고리즘들이 있습니다 (ddpg 등).\n",
    "\n",
    "이번 실습에서는 연속된 제어 공간을 위해 알고리즘을 수정하지 않고, Reinforce 알고리즘의 특성을 간접적으로 알아보겠습니다.\n",
    "\n",
    "제어 입력인 토크를 -1, 0, 1로 설정하고 알고리즘을 설계해보겠습니다. 따라서 모델의 출력층 크기는 3이 되어야 합니다."
   ]
  },
  {
   "cell_type": "code",
   "execution_count": 24,
   "metadata": {},
   "outputs": [],
   "source": [
    "\n",
    "\n",
    "import torch.nn as nn\n",
    "import torch.nn.functional as F\n",
    "import torch.optim as optim\n",
    "from torch.distributions import Categorical\n",
    "\n",
    "#Hyperparameters\n",
    "learning_rate = 0.0008\n",
    "gamma         = 0.98\n",
    "\n",
    "class Policy(nn.Module):\n",
    "    def __init__(self):\n",
    "        super(Policy, self).__init__()\n",
    "        self.data = []\n",
    "        \n",
    "        self.fc1 = nn.Linear(3, 128)\n",
    "        self.fc2 = nn.Linear(128, 3)\n",
    "        self.optimizer = optim.Adam(self.parameters(), lr=learning_rate)\n",
    "        \n",
    "    def forward(self, x):\n",
    "        x = F.relu(self.fc1(x))\n",
    "        x = F.softmax(self.fc2(x), dim=0)\n",
    "        return x\n",
    "      \n",
    "    def put_data(self, item):\n",
    "        self.data.append(item)\n",
    "        \n",
    "    def train_net(self):\n",
    "        R = 0\n",
    "        self.optimizer.zero_grad()\n",
    "        for r, prob in self.data[::-1]:\n",
    "            R = r + gamma * R\n",
    "            loss = -torch.log(prob) * R\n",
    "            loss.backward()\n",
    "        self.optimizer.step()\n",
    "        self.data = []"
   ]
  },
  {
   "cell_type": "markdown",
   "metadata": {},
   "source": [
    "---\n",
    "### 4.2 Inverted pedulum 에 적용\n",
    "알고리즘을 이용해 학습해보겠습니다."
   ]
  },
  {
   "cell_type": "code",
   "execution_count": 25,
   "metadata": {},
   "outputs": [
    {
     "name": "stdout",
     "output_type": "stream",
     "text": [
      "# of episode :20, avg score : -1170.1051440032393\n",
      "# of episode :40, avg score : -1159.4327999281663\n",
      "# of episode :60, avg score : -1169.4721933645253\n",
      "# of episode :80, avg score : -1225.6691916844543\n",
      "# of episode :100, avg score : -1253.9128420479196\n",
      "# of episode :120, avg score : -1254.1982139991087\n",
      "# of episode :140, avg score : -1191.8402380282175\n",
      "# of episode :160, avg score : -1148.4445717392168\n",
      "# of episode :180, avg score : -1203.657269760307\n",
      "# of episode :200, avg score : -1196.982439220975\n",
      "# of episode :220, avg score : -1194.621437778494\n",
      "# of episode :240, avg score : -1148.5788562188275\n",
      "# of episode :260, avg score : -1085.9510435820923\n",
      "# of episode :280, avg score : -1092.699686377577\n",
      "# of episode :300, avg score : -1154.1397266357276\n",
      "# of episode :320, avg score : -1161.9682920322753\n",
      "# of episode :340, avg score : -1253.2811156251862\n",
      "# of episode :360, avg score : -1240.6557429075863\n",
      "# of episode :380, avg score : -1204.54106205745\n",
      "# of episode :400, avg score : -1061.3163144757534\n",
      "# of episode :420, avg score : -1052.1258928115326\n",
      "# of episode :440, avg score : -1125.8273358206266\n",
      "# of episode :460, avg score : -1173.6690313577437\n",
      "# of episode :480, avg score : -1246.0557166390731\n",
      "# of episode :500, avg score : -1167.6078186459804\n",
      "# of episode :520, avg score : -1061.1028555993148\n",
      "# of episode :540, avg score : -1167.0160434128613\n",
      "# of episode :560, avg score : -1074.9415931887304\n",
      "# of episode :580, avg score : -1125.8014030526085\n",
      "# of episode :600, avg score : -1185.487421780715\n",
      "# of episode :620, avg score : -1253.0788009420874\n",
      "# of episode :640, avg score : -1281.8587897401437\n",
      "# of episode :660, avg score : -1348.2826217220545\n",
      "# of episode :680, avg score : -1348.8196470697044\n",
      "# of episode :700, avg score : -1349.08773752646\n",
      "# of episode :720, avg score : -1347.8681168808691\n",
      "# of episode :740, avg score : -1343.964026668274\n",
      "# of episode :760, avg score : -1343.748505035701\n",
      "# of episode :780, avg score : -1327.7493076132514\n",
      "# of episode :800, avg score : -1341.4560785460417\n",
      "# of episode :820, avg score : -1345.7382557291853\n",
      "# of episode :840, avg score : -1338.2072253639049\n",
      "# of episode :860, avg score : -1314.707826473602\n",
      "# of episode :880, avg score : -1320.526689432877\n",
      "# of episode :900, avg score : -1274.8400961869215\n",
      "# of episode :920, avg score : -1286.9380547834526\n",
      "# of episode :940, avg score : -1321.07863865534\n",
      "# of episode :960, avg score : -1304.6263319712966\n",
      "# of episode :980, avg score : -1280.8191311178082\n",
      "# of episode :1000, avg score : -1298.087644400094\n",
      "# of episode :1020, avg score : -1278.5591780340542\n",
      "# of episode :1040, avg score : -1255.1896922227781\n",
      "# of episode :1060, avg score : -1285.1828515972409\n",
      "# of episode :1080, avg score : -1258.1170610875608\n",
      "# of episode :1100, avg score : -1165.8619191461748\n",
      "# of episode :1120, avg score : -1212.9492671147843\n",
      "# of episode :1140, avg score : -1225.4240878441078\n",
      "# of episode :1160, avg score : -1210.2481677013322\n",
      "# of episode :1180, avg score : -1213.9357964423764\n",
      "# of episode :1200, avg score : -1202.4794375401789\n",
      "# of episode :1220, avg score : -1212.7522200971005\n",
      "# of episode :1240, avg score : -1233.7411983563036\n",
      "# of episode :1260, avg score : -1246.9119330191525\n",
      "# of episode :1280, avg score : -1240.2909658970573\n",
      "# of episode :1300, avg score : -1169.065689095392\n",
      "# of episode :1320, avg score : -1194.776545347835\n",
      "# of episode :1340, avg score : -1232.7638781789076\n",
      "# of episode :1360, avg score : -1224.5536338385152\n",
      "# of episode :1380, avg score : -1188.8956473252106\n",
      "# of episode :1400, avg score : -1180.5983230503718\n",
      "# of episode :1420, avg score : -1230.073600256977\n",
      "# of episode :1440, avg score : -1168.0050116201749\n",
      "# of episode :1460, avg score : -1179.4341941717364\n",
      "# of episode :1480, avg score : -1237.267416599208\n",
      "# of episode :1500, avg score : -1273.3573421224978\n",
      "# of episode :1520, avg score : -1261.5342075874987\n",
      "# of episode :1540, avg score : -1210.7123219579757\n",
      "# of episode :1560, avg score : -1270.857661694843\n",
      "# of episode :1580, avg score : -1154.8332472763452\n",
      "# of episode :1600, avg score : -1204.429925692344\n",
      "# of episode :1620, avg score : -1204.5616017642997\n",
      "# of episode :1640, avg score : -1207.230696646146\n",
      "# of episode :1660, avg score : -1187.6213406414101\n",
      "# of episode :1680, avg score : -1195.9959006774088\n",
      "# of episode :1700, avg score : -1262.970755907442\n",
      "# of episode :1720, avg score : -1256.0207600359925\n",
      "# of episode :1740, avg score : -1284.2842219934212\n",
      "# of episode :1760, avg score : -1217.3896586935894\n",
      "# of episode :1780, avg score : -1221.353852628866\n",
      "# of episode :1800, avg score : -1192.3298087578937\n",
      "# of episode :1820, avg score : -1180.155628383527\n",
      "# of episode :1840, avg score : -1172.1690982882187\n",
      "# of episode :1860, avg score : -1202.6712271747338\n",
      "# of episode :1880, avg score : -1134.630544822625\n",
      "# of episode :1900, avg score : -1168.248348462961\n",
      "# of episode :1920, avg score : -1163.0729492959201\n",
      "# of episode :1940, avg score : -1204.5729426439273\n",
      "# of episode :1960, avg score : -1173.716853032013\n",
      "# of episode :1980, avg score : -1155.2196679137596\n",
      "# of episode :2000, avg score : -1189.6090426754686\n",
      "# of episode :2020, avg score : -1147.0620721981527\n",
      "# of episode :2040, avg score : -1156.1550683710227\n",
      "# of episode :2060, avg score : -1211.7035318517023\n",
      "# of episode :2080, avg score : -1237.3259916566049\n",
      "# of episode :2100, avg score : -1222.989488993949\n",
      "# of episode :2120, avg score : -1210.5902279594966\n",
      "# of episode :2140, avg score : -1196.0087088170953\n",
      "# of episode :2160, avg score : -1151.0461666207418\n",
      "# of episode :2180, avg score : -1183.7777373789888\n",
      "# of episode :2200, avg score : -1206.9136352017972\n",
      "# of episode :2220, avg score : -1201.6460880970465\n",
      "# of episode :2240, avg score : -1259.4736333115177\n",
      "# of episode :2260, avg score : -1246.8285195085164\n",
      "# of episode :2280, avg score : -1246.9483116050385\n",
      "# of episode :2300, avg score : -1279.8318870938906\n",
      "# of episode :2320, avg score : -1287.7108704432474\n",
      "# of episode :2340, avg score : -1261.9499236503104\n",
      "# of episode :2360, avg score : -1295.1719179381319\n",
      "# of episode :2380, avg score : -1273.7832964562513\n",
      "# of episode :2400, avg score : -1170.1599395461137\n",
      "# of episode :2420, avg score : -1147.4637841158442\n",
      "# of episode :2440, avg score : -1127.2050748266463\n",
      "# of episode :2460, avg score : -1194.7973419408313\n",
      "# of episode :2480, avg score : -1182.0284722004299\n",
      "# of episode :2500, avg score : -1177.8827595109474\n",
      "# of episode :2520, avg score : -1155.9111860642024\n",
      "# of episode :2540, avg score : -1135.9094525698308\n",
      "# of episode :2560, avg score : -1124.9540321445206\n",
      "# of episode :2580, avg score : -1166.7101805964287\n",
      "# of episode :2600, avg score : -1135.8026709573255\n",
      "# of episode :2620, avg score : -1176.3355309845106\n",
      "# of episode :2640, avg score : -1203.4391850286077\n",
      "# of episode :2660, avg score : -1153.544298284512\n",
      "# of episode :2680, avg score : -1250.8918332705896\n",
      "# of episode :2700, avg score : -1278.6135985879926\n",
      "# of episode :2720, avg score : -1273.011422495944\n",
      "# of episode :2740, avg score : -1307.9598954682028\n",
      "# of episode :2760, avg score : -1304.8452113565677\n",
      "# of episode :2780, avg score : -1307.7595197629694\n",
      "# of episode :2800, avg score : -1302.692596550041\n",
      "# of episode :2820, avg score : -1305.9685369353788\n",
      "# of episode :2840, avg score : -1308.5369554769638\n",
      "# of episode :2860, avg score : -1308.1807916610778\n",
      "# of episode :2880, avg score : -1306.5454273351459\n",
      "# of episode :2900, avg score : -1305.9300861213521\n",
      "# of episode :2920, avg score : -1301.1421031700577\n",
      "# of episode :2940, avg score : -1305.7204965198284\n",
      "# of episode :2960, avg score : -1301.0818382224932\n",
      "# of episode :2980, avg score : -1304.0668578405928\n",
      "# of episode :3000, avg score : -1289.5945216440161\n",
      "# of episode :3020, avg score : -1305.0802321738886\n",
      "# of episode :3040, avg score : -1309.3080102383637\n",
      "# of episode :3060, avg score : -1308.3804300233164\n",
      "# of episode :3080, avg score : -1308.192081263061\n",
      "# of episode :3100, avg score : -1309.4082061345014\n",
      "# of episode :3120, avg score : -1304.8629538396267\n",
      "# of episode :3140, avg score : -1302.679181764979\n",
      "# of episode :3160, avg score : -1308.1650501540705\n",
      "# of episode :3180, avg score : -1309.3940474183423\n",
      "# of episode :3200, avg score : -1308.3926201913125\n",
      "# of episode :3220, avg score : -1306.6843783251547\n",
      "# of episode :3240, avg score : -1308.8169193760937\n",
      "# of episode :3260, avg score : -1308.1860159930222\n",
      "# of episode :3280, avg score : -1308.588919848881\n",
      "# of episode :3300, avg score : -1308.676891319878\n",
      "# of episode :3320, avg score : -1308.9895953617843\n",
      "# of episode :3340, avg score : -1309.0392288456123\n",
      "# of episode :3360, avg score : -1307.8326556236395\n",
      "# of episode :3380, avg score : -1309.4616984874035\n",
      "# of episode :3400, avg score : -1308.0148348025916\n",
      "# of episode :3420, avg score : -1308.5828618959663\n",
      "# of episode :3440, avg score : -1308.4289274342632\n",
      "# of episode :3460, avg score : -1307.0413594656554\n",
      "# of episode :3480, avg score : -1301.2582285655594\n",
      "# of episode :3500, avg score : -1301.895903367502\n",
      "# of episode :3520, avg score : -1305.4772514921165\n",
      "# of episode :3540, avg score : -1279.3081215873058\n",
      "# of episode :3560, avg score : -1272.1060475678464\n",
      "# of episode :3580, avg score : -1271.467406622497\n",
      "# of episode :3600, avg score : -1298.9505348992732\n",
      "# of episode :3620, avg score : -1283.5301484059808\n",
      "# of episode :3640, avg score : -1305.9886244868592\n",
      "# of episode :3660, avg score : -1306.075782606351\n",
      "# of episode :3680, avg score : -1303.6665247497017\n",
      "# of episode :3700, avg score : -1308.510250054612\n",
      "# of episode :3720, avg score : -1306.1364599719293\n",
      "# of episode :3740, avg score : -1306.6934926051963\n",
      "# of episode :3760, avg score : -1302.724458439069\n",
      "# of episode :3780, avg score : -1306.9956717959774\n",
      "# of episode :3800, avg score : -1308.7313202736966\n",
      "# of episode :3820, avg score : -1308.7978395468713\n",
      "# of episode :3840, avg score : -1308.6138638228051\n",
      "# of episode :3860, avg score : -1305.4179957900583\n",
      "# of episode :3880, avg score : -1307.7727343063448\n",
      "# of episode :3900, avg score : -1309.561411046982\n",
      "# of episode :3920, avg score : -1308.3039699867957\n",
      "# of episode :3940, avg score : -1299.681906228327\n",
      "# of episode :3960, avg score : -1305.4085246471348\n",
      "# of episode :3980, avg score : -1305.9163320891716\n",
      "# of episode :4000, avg score : -1294.6039235405433\n",
      "# of episode :4020, avg score : -1304.1548594761966\n",
      "# of episode :4040, avg score : -1307.8195746910624\n",
      "# of episode :4060, avg score : -1306.2752336411618\n",
      "# of episode :4080, avg score : -1301.1469825716647\n",
      "# of episode :4100, avg score : -1302.1390833737394\n",
      "# of episode :4120, avg score : -1307.3039459521626\n",
      "# of episode :4140, avg score : -1304.9105528918708\n",
      "# of episode :4160, avg score : -1304.6904558373747\n",
      "# of episode :4180, avg score : -1301.6969545469476\n",
      "# of episode :4200, avg score : -1280.7592772832609\n",
      "# of episode :4220, avg score : -1255.8021745752008\n",
      "# of episode :4240, avg score : -1298.9634563288375\n",
      "# of episode :4260, avg score : -1292.5896046964128\n",
      "# of episode :4280, avg score : -1305.3174788257377\n",
      "# of episode :4300, avg score : -1295.2124849728882\n",
      "# of episode :4320, avg score : -1303.7025420534787\n",
      "# of episode :4340, avg score : -1305.150324894363\n",
      "# of episode :4360, avg score : -1302.3478987770477\n",
      "# of episode :4380, avg score : -1305.6461699660472\n",
      "# of episode :4400, avg score : -1307.427061889723\n",
      "# of episode :4420, avg score : -1308.4589506738528\n",
      "# of episode :4440, avg score : -1306.157108430921\n",
      "# of episode :4460, avg score : -1307.6694072133237\n",
      "# of episode :4480, avg score : -1307.974371046172\n",
      "# of episode :4500, avg score : -1309.0429257908468\n",
      "# of episode :4520, avg score : -1306.9602414743415\n",
      "# of episode :4540, avg score : -1298.6104383927827\n",
      "# of episode :4560, avg score : -1277.8031586262807\n",
      "# of episode :4580, avg score : -1308.7668634206311\n",
      "# of episode :4600, avg score : -1308.255176398255\n",
      "# of episode :4620, avg score : -1308.5607660701794\n",
      "# of episode :4640, avg score : -1307.1945305076167\n",
      "# of episode :4660, avg score : -1305.8988260481622\n",
      "# of episode :4680, avg score : -1306.6104148025588\n",
      "# of episode :4700, avg score : -1304.3961786043178\n",
      "# of episode :4720, avg score : -1309.0163645287657\n",
      "# of episode :4740, avg score : -1290.6523593794777\n",
      "# of episode :4760, avg score : -1306.7504783662964\n",
      "# of episode :4780, avg score : -1307.5091290163698\n",
      "# of episode :4800, avg score : -1304.0267413327501\n",
      "# of episode :4820, avg score : -1274.2063472580196\n",
      "# of episode :4840, avg score : -1302.4764514822834\n",
      "# of episode :4860, avg score : -1308.5502722471967\n",
      "# of episode :4880, avg score : -1309.5189880207392\n",
      "# of episode :4900, avg score : -1309.8373438650683\n",
      "# of episode :4920, avg score : -1309.6764579702626\n",
      "# of episode :4940, avg score : -1308.5375243974045\n",
      "# of episode :4960, avg score : -1308.8441350634316\n",
      "# of episode :4980, avg score : -1302.6765306627149\n"
     ]
    }
   ],
   "source": [
    "env = gym.make('Pendulum-v1', render_mode='rgb_array')\n",
    "pi = Policy()\n",
    "score = 0.0\n",
    "print_interval = 20\n",
    "max_steps_per_episode = 200\n",
    "\n",
    "action_map = [-1, 0, 1]  # Define the action mapping\n",
    "\n",
    "for n_epi in range(5000):\n",
    "    s, _ = env.reset(seed=random_seed)\n",
    "    done = False\n",
    "    step_count = 0\n",
    "    \n",
    "    while not done and step_count < max_steps_per_episode: # CartPole-v1 forced to terminates at 500 step.\n",
    "\n",
    "        step_count += 1\n",
    "        prob = pi(torch.from_numpy(s).float())\n",
    "\n",
    "        m = Categorical(prob)\n",
    "        a = m.sample()\n",
    "        action = action_map[a.item()]\n",
    "\n",
    "        s_prime, r, done, truncated, info = env.step([action])\n",
    "        pi.put_data((r,prob[a]))\n",
    "        s = s_prime\n",
    "        score += r\n",
    "        \n",
    "    pi.train_net()\n",
    "    \n",
    "    if n_epi%print_interval==0 and n_epi!=0:\n",
    "        print(\"# of episode :{}, avg score : {}\".format(n_epi, score/print_interval))\n",
    "        score = 0.0\n",
    "env.close()"
   ]
  },
  {
   "cell_type": "markdown",
   "metadata": {},
   "source": [
    "학습이 완료된 모델을 불러와 다양한 초기조건에서 막대를 제어해보겠습니다."
   ]
  },
  {
   "cell_type": "code",
   "execution_count": 26,
   "metadata": {},
   "outputs": [
    {
     "data": {
      "image/png": "[encoded data removed]",
      "text/plain": [
       "<Figure size 500x500 with 1 Axes>"
      ]
     },
     "metadata": {},
     "output_type": "display_data"
    }
   ],
   "source": [
    "pi.eval()\n",
    "env_pendulum = gym.make('Pendulum-v1', render_mode='rgb_array')\n",
    "s, _ = env_pendulum.reset(seed=random_seed)\n",
    "\n",
    "num_steps = 200\n",
    "\n",
    "episode_reward = 0\n",
    "for step in range(num_steps):\n",
    "\n",
    "    prob = pi(torch.from_numpy(s).float())\n",
    "    a = prob.argmax().item()  # Select the action with the highest probability\n",
    "    s, r, done, truncated, info = env_pendulum.step([a])\n",
    "\n",
    "    # Render the environment\n",
    "    render_env(env_pendulum)\n",
    "\n",
    "# Close the Pendulum environment\n",
    "env_pendulum.close()"
   ]
  },
  {
   "cell_type": "markdown",
   "metadata": {},
   "source": [
    "제어 결과, 학습이 잘 이뤄지지 않은 것을 볼 수 있습니다.\n",
    "\n",
    "학습 iteration 수를 크게 늘리면 도움이 될 수 있지만, 다른 최신 강화학습 알고리즘을 사용하는 것이 더 합리적일 것입니다."
   ]
  },
  {
   "cell_type": "markdown",
   "metadata": {},
   "source": [
    "---\n",
    "### 4.3 Cartpole 에 적용\n",
    "Reinforce 알고리즘을 이용해 Cartpole 환경을 학습해보겠습니다.\n",
    "policy의 입력과 출력층을 cartpole에 맞게 변경합니다."
   ]
  },
  {
   "cell_type": "code",
   "execution_count": 27,
   "metadata": {},
   "outputs": [],
   "source": [
    "\n",
    "#Hyperparameters\n",
    "learning_rate = 0.0002\n",
    "gamma         = 0.98\n",
    "\n",
    "class Policy(nn.Module):\n",
    "    def __init__(self):\n",
    "        super(Policy, self).__init__()\n",
    "        self.data = []\n",
    "        \n",
    "        self.fc1 = nn.Linear(4, 128)\n",
    "        self.fc2 = nn.Linear(128, 2)\n",
    "        self.optimizer = optim.Adam(self.parameters(), lr=learning_rate)\n",
    "        \n",
    "    def forward(self, x):\n",
    "        x = F.relu(self.fc1(x))\n",
    "        x = F.softmax(self.fc2(x), dim=0)\n",
    "        return x\n",
    "      \n",
    "    def put_data(self, item):\n",
    "        self.data.append(item)\n",
    "        \n",
    "    def train_net(self):\n",
    "        R = 0\n",
    "        self.optimizer.zero_grad()\n",
    "        for r, prob in self.data[::-1]:\n",
    "            R = r + gamma * R\n",
    "            loss = -torch.log(prob) * R\n",
    "            loss.backward()\n",
    "        self.optimizer.step()\n",
    "        self.data = []"
   ]
  },
  {
   "cell_type": "markdown",
   "metadata": {},
   "source": [
    "Cartpole 환경에서 Reinforce 알고리즘을 학습시킵니다. \n",
    "\n",
    "학습에 시간이 조금 소요됩니다.\n",
    "\n",
    "### [TODO] 환경에 적용할 제어 입력 a를 구합니다. 제어 정책의 출력을 카테고리 데이터로 변환한 변수에서 샘플링을 진행하여 획득할 수 있습니다."
   ]
  },
  {
   "cell_type": "code",
   "execution_count": 28,
   "metadata": {},
   "outputs": [
    {
     "name": "stdout",
     "output_type": "stream",
     "text": [
      "# of episode :20, avg score : 28.7\n",
      "# of episode :40, avg score : 24.8\n",
      "# of episode :60, avg score : 28.75\n",
      "# of episode :80, avg score : 19.3\n",
      "# of episode :100, avg score : 31.15\n",
      "# of episode :120, avg score : 30.45\n",
      "# of episode :140, avg score : 26.8\n",
      "# of episode :160, avg score : 30.95\n",
      "# of episode :180, avg score : 43.35\n",
      "# of episode :200, avg score : 30.35\n",
      "# of episode :220, avg score : 38.0\n",
      "# of episode :240, avg score : 37.85\n",
      "# of episode :260, avg score : 42.7\n",
      "# of episode :280, avg score : 34.95\n",
      "# of episode :300, avg score : 36.15\n",
      "# of episode :320, avg score : 36.25\n",
      "# of episode :340, avg score : 46.1\n",
      "# of episode :360, avg score : 41.05\n",
      "# of episode :380, avg score : 48.35\n",
      "# of episode :400, avg score : 54.5\n",
      "# of episode :420, avg score : 46.6\n",
      "# of episode :440, avg score : 50.65\n",
      "# of episode :460, avg score : 42.6\n",
      "# of episode :480, avg score : 48.7\n",
      "# of episode :500, avg score : 45.6\n",
      "# of episode :520, avg score : 47.65\n",
      "# of episode :540, avg score : 50.35\n",
      "# of episode :560, avg score : 65.95\n",
      "# of episode :580, avg score : 72.6\n",
      "# of episode :600, avg score : 68.75\n",
      "# of episode :620, avg score : 60.65\n",
      "# of episode :640, avg score : 71.85\n",
      "# of episode :660, avg score : 55.8\n",
      "# of episode :680, avg score : 81.35\n",
      "# of episode :700, avg score : 82.85\n",
      "# of episode :720, avg score : 64.5\n",
      "# of episode :740, avg score : 67.3\n",
      "# of episode :760, avg score : 76.1\n",
      "# of episode :780, avg score : 85.1\n",
      "# of episode :800, avg score : 89.6\n",
      "# of episode :820, avg score : 83.3\n",
      "# of episode :840, avg score : 75.2\n",
      "# of episode :860, avg score : 103.45\n",
      "# of episode :880, avg score : 115.2\n",
      "# of episode :900, avg score : 92.55\n",
      "# of episode :920, avg score : 95.15\n",
      "# of episode :940, avg score : 125.55\n",
      "# of episode :960, avg score : 108.0\n",
      "# of episode :980, avg score : 142.15\n",
      "# of episode :1000, avg score : 131.45\n",
      "# of episode :1020, avg score : 122.55\n",
      "# of episode :1040, avg score : 131.15\n",
      "# of episode :1060, avg score : 174.05\n",
      "# of episode :1080, avg score : 142.15\n",
      "# of episode :1100, avg score : 164.15\n",
      "# of episode :1120, avg score : 138.9\n",
      "# of episode :1140, avg score : 144.35\n",
      "# of episode :1160, avg score : 184.35\n",
      "# of episode :1180, avg score : 164.1\n",
      "# of episode :1200, avg score : 166.85\n",
      "# of episode :1220, avg score : 186.15\n",
      "# of episode :1240, avg score : 193.2\n",
      "# of episode :1260, avg score : 200.1\n",
      "# of episode :1280, avg score : 169.35\n",
      "# of episode :1300, avg score : 188.8\n",
      "# of episode :1320, avg score : 194.8\n",
      "# of episode :1340, avg score : 185.75\n",
      "# of episode :1360, avg score : 186.8\n",
      "# of episode :1380, avg score : 214.0\n",
      "# of episode :1400, avg score : 195.7\n",
      "# of episode :1420, avg score : 200.85\n",
      "# of episode :1440, avg score : 247.4\n",
      "# of episode :1460, avg score : 200.95\n",
      "# of episode :1480, avg score : 166.95\n",
      "# of episode :1500, avg score : 210.95\n",
      "# of episode :1520, avg score : 166.3\n",
      "# of episode :1540, avg score : 225.4\n",
      "# of episode :1560, avg score : 231.45\n",
      "# of episode :1580, avg score : 227.05\n",
      "# of episode :1600, avg score : 221.75\n",
      "# of episode :1620, avg score : 242.05\n",
      "# of episode :1640, avg score : 243.5\n",
      "# of episode :1660, avg score : 227.25\n",
      "# of episode :1680, avg score : 239.65\n",
      "# of episode :1700, avg score : 209.3\n",
      "# of episode :1720, avg score : 193.8\n",
      "# of episode :1740, avg score : 253.95\n",
      "# of episode :1760, avg score : 254.6\n",
      "# of episode :1780, avg score : 194.3\n",
      "# of episode :1800, avg score : 256.9\n",
      "# of episode :1820, avg score : 339.95\n",
      "# of episode :1840, avg score : 307.05\n",
      "# of episode :1860, avg score : 272.25\n",
      "# of episode :1880, avg score : 234.3\n",
      "# of episode :1900, avg score : 275.5\n",
      "# of episode :1920, avg score : 290.3\n",
      "# of episode :1940, avg score : 247.9\n",
      "# of episode :1960, avg score : 261.75\n",
      "# of episode :1980, avg score : 267.95\n",
      "# of episode :2000, avg score : 252.4\n",
      "# of episode :2020, avg score : 279.95\n",
      "# of episode :2040, avg score : 288.05\n",
      "# of episode :2060, avg score : 281.75\n",
      "# of episode :2080, avg score : 362.95\n",
      "# of episode :2100, avg score : 190.8\n",
      "# of episode :2120, avg score : 209.35\n",
      "# of episode :2140, avg score : 180.4\n",
      "# of episode :2160, avg score : 183.05\n",
      "# of episode :2180, avg score : 197.55\n",
      "# of episode :2200, avg score : 242.2\n",
      "# of episode :2220, avg score : 220.25\n",
      "# of episode :2240, avg score : 239.0\n",
      "# of episode :2260, avg score : 271.35\n",
      "# of episode :2280, avg score : 243.6\n",
      "# of episode :2300, avg score : 243.85\n",
      "# of episode :2320, avg score : 299.55\n",
      "# of episode :2340, avg score : 390.05\n",
      "# of episode :2360, avg score : 326.25\n",
      "# of episode :2380, avg score : 396.55\n",
      "# of episode :2400, avg score : 371.75\n",
      "# of episode :2420, avg score : 343.3\n",
      "# of episode :2440, avg score : 295.45\n",
      "# of episode :2460, avg score : 375.85\n",
      "# of episode :2480, avg score : 307.0\n",
      "# of episode :2500, avg score : 344.1\n",
      "# of episode :2520, avg score : 331.0\n",
      "# of episode :2540, avg score : 331.15\n",
      "# of episode :2560, avg score : 314.5\n",
      "# of episode :2580, avg score : 322.2\n",
      "# of episode :2600, avg score : 300.05\n",
      "# of episode :2620, avg score : 370.8\n",
      "# of episode :2640, avg score : 391.1\n",
      "# of episode :2660, avg score : 444.9\n",
      "# of episode :2680, avg score : 341.3\n",
      "# of episode :2700, avg score : 342.8\n",
      "# of episode :2720, avg score : 318.7\n",
      "# of episode :2740, avg score : 256.85\n",
      "# of episode :2760, avg score : 352.7\n",
      "# of episode :2780, avg score : 411.65\n",
      "# of episode :2800, avg score : 471.8\n",
      "# of episode :2820, avg score : 413.3\n",
      "# of episode :2840, avg score : 422.0\n",
      "# of episode :2860, avg score : 391.8\n",
      "# of episode :2880, avg score : 512.15\n",
      "# of episode :2900, avg score : 468.1\n",
      "# of episode :2920, avg score : 535.65\n",
      "# of episode :2940, avg score : 400.3\n",
      "# of episode :2960, avg score : 499.75\n",
      "# of episode :2980, avg score : 550.35\n",
      "# of episode :3000, avg score : 375.45\n",
      "# of episode :3020, avg score : 402.15\n",
      "# of episode :3040, avg score : 352.3\n",
      "# of episode :3060, avg score : 275.55\n",
      "# of episode :3080, avg score : 322.4\n",
      "# of episode :3100, avg score : 343.05\n",
      "# of episode :3120, avg score : 281.0\n",
      "# of episode :3140, avg score : 308.6\n",
      "# of episode :3160, avg score : 261.9\n",
      "# of episode :3180, avg score : 305.55\n",
      "# of episode :3200, avg score : 278.7\n",
      "# of episode :3220, avg score : 247.35\n",
      "# of episode :3240, avg score : 237.8\n",
      "# of episode :3260, avg score : 276.5\n",
      "# of episode :3280, avg score : 332.25\n",
      "# of episode :3300, avg score : 337.0\n",
      "# of episode :3320, avg score : 447.75\n",
      "# of episode :3340, avg score : 460.05\n",
      "# of episode :3360, avg score : 503.3\n",
      "# of episode :3380, avg score : 428.85\n",
      "# of episode :3400, avg score : 538.15\n",
      "# of episode :3420, avg score : 457.15\n",
      "# of episode :3440, avg score : 452.25\n",
      "# of episode :3460, avg score : 727.4\n",
      "# of episode :3480, avg score : 545.55\n",
      "# of episode :3500, avg score : 498.95\n",
      "# of episode :3520, avg score : 458.2\n",
      "# of episode :3540, avg score : 333.35\n",
      "# of episode :3560, avg score : 322.3\n",
      "# of episode :3580, avg score : 341.05\n",
      "# of episode :3600, avg score : 322.9\n",
      "# of episode :3620, avg score : 459.9\n",
      "# of episode :3640, avg score : 430.65\n",
      "# of episode :3660, avg score : 268.8\n",
      "# of episode :3680, avg score : 319.5\n",
      "# of episode :3700, avg score : 314.5\n",
      "# of episode :3720, avg score : 342.7\n",
      "# of episode :3740, avg score : 481.9\n",
      "# of episode :3760, avg score : 469.1\n",
      "# of episode :3780, avg score : 561.75\n",
      "# of episode :3800, avg score : 714.5\n",
      "# of episode :3820, avg score : 917.65\n",
      "# of episode :3840, avg score : 1082.7\n",
      "# of episode :3860, avg score : 620.35\n",
      "# of episode :3880, avg score : 925.4\n",
      "# of episode :3900, avg score : 919.2\n",
      "# of episode :3920, avg score : 895.05\n",
      "# of episode :3940, avg score : 767.3\n",
      "# of episode :3960, avg score : 586.6\n",
      "# of episode :3980, avg score : 573.5\n",
      "# of episode :4000, avg score : 509.05\n",
      "# of episode :4020, avg score : 649.1\n",
      "# of episode :4040, avg score : 601.7\n",
      "# of episode :4060, avg score : 578.7\n",
      "# of episode :4080, avg score : 845.6\n",
      "# of episode :4100, avg score : 883.45\n",
      "# of episode :4120, avg score : 806.85\n",
      "# of episode :4140, avg score : 618.15\n",
      "# of episode :4160, avg score : 427.25\n",
      "# of episode :4180, avg score : 376.65\n",
      "# of episode :4200, avg score : 533.05\n",
      "# of episode :4220, avg score : 601.3\n",
      "# of episode :4240, avg score : 942.8\n",
      "# of episode :4260, avg score : 827.5\n",
      "# of episode :4280, avg score : 902.9\n",
      "# of episode :4300, avg score : 1090.7\n",
      "# of episode :4320, avg score : 870.35\n",
      "# of episode :4340, avg score : 914.8\n",
      "# of episode :4360, avg score : 764.0\n",
      "# of episode :4380, avg score : 928.65\n",
      "# of episode :4400, avg score : 1130.35\n",
      "# of episode :4420, avg score : 756.15\n",
      "# of episode :4440, avg score : 899.45\n",
      "# of episode :4460, avg score : 677.15\n",
      "# of episode :4480, avg score : 693.7\n",
      "# of episode :4500, avg score : 823.55\n",
      "# of episode :4520, avg score : 730.15\n",
      "# of episode :4540, avg score : 623.9\n",
      "# of episode :4560, avg score : 874.85\n",
      "# of episode :4580, avg score : 780.0\n",
      "# of episode :4600, avg score : 1003.65\n",
      "# of episode :4620, avg score : 1338.45\n",
      "# of episode :4640, avg score : 1458.65\n",
      "# of episode :4660, avg score : 1559.2\n",
      "# of episode :4680, avg score : 1648.25\n",
      "# of episode :4700, avg score : 1430.15\n",
      "# of episode :4720, avg score : 1371.1\n",
      "# of episode :4740, avg score : 1257.55\n",
      "# of episode :4760, avg score : 1250.5\n",
      "# of episode :4780, avg score : 1392.2\n",
      "# of episode :4800, avg score : 1122.05\n",
      "# of episode :4820, avg score : 968.5\n",
      "# of episode :4840, avg score : 811.85\n",
      "# of episode :4860, avg score : 781.85\n",
      "# of episode :4880, avg score : 763.0\n",
      "# of episode :4900, avg score : 657.35\n",
      "# of episode :4920, avg score : 630.45\n",
      "# of episode :4940, avg score : 631.35\n",
      "# of episode :4960, avg score : 655.5\n",
      "# of episode :4980, avg score : 1158.85\n"
     ]
    }
   ],
   "source": [
    "env = gym.make('CartPole-v1')\n",
    "pi = Policy()\n",
    "score = 0.0\n",
    "print_interval = 20\n",
    "\n",
    "\n",
    "for n_epi in range(5000):\n",
    "    s, _ = env.reset(seed=random_seed)\n",
    "    done = False\n",
    "    \n",
    "    while not done: # CartPole-v1 forced to terminates at 500 step.\n",
    "        prob = pi(torch.from_numpy(s).float())\n",
    "        m = Categorical(prob)\n",
    "        a = m.sample()\n",
    "        s_prime, r, done, truncated, info = env.step(a.item())\n",
    "        pi.put_data((r,prob[a]))\n",
    "        s = s_prime\n",
    "        score += r\n",
    "        \n",
    "    pi.train_net()\n",
    "    \n",
    "    if n_epi%print_interval==0 and n_epi!=0:\n",
    "        print(\"# of episode :{}, avg score : {}\".format(n_epi, score/print_interval))\n",
    "        score = 0.0\n",
    "env.close()"
   ]
  },
  {
   "cell_type": "markdown",
   "metadata": {},
   "source": [
    "학습이 완료된 모델을 이용해 테스트해보겠습니다."
   ]
  },
  {
   "cell_type": "code",
   "execution_count": 29,
   "metadata": {},
   "outputs": [
    {
     "data": {
      "image/png": "[encoded data removed]",
      "text/plain": [
       "<Figure size 500x500 with 1 Axes>"
      ]
     },
     "metadata": {},
     "output_type": "display_data"
    }
   ],
   "source": [
    "pi.eval()\n",
    "env_cartpole = gym.make('CartPole-v1', render_mode='rgb_array')\n",
    "s, _ = env_cartpole.reset(seed=random_seed)\n",
    "\n",
    "num_steps = 200\n",
    "\n",
    "episode_reward = 0\n",
    "for step in range(num_steps):\n",
    "\n",
    "    prob = pi(torch.from_numpy(s).float())\n",
    "    a = prob.argmax().item()  # Select the action with the highest probability\n",
    "    s, r, done, truncated, info = env_cartpole.step(a)\n",
    "\n",
    "    # Render the environment\n",
    "    render_env(env_cartpole)\n",
    "\n",
    "env_cartpole.close()"
   ]
  },
  {
   "cell_type": "markdown",
   "metadata": {},
   "source": [
    "Cartpole 모델은 제어 입력 공간이 이산화되어 있습니다 (왼쪽 혹은 오른쪽). 따라서 기본적인 Reinforce 알고리즘도 잘 작동하는 것을 볼 수 있습니다."
   ]
  },
  {
   "cell_type": "markdown",
   "metadata": {},
   "source": [
    "---\n",
    "## 5. Actor-Critic 강화학습 알고리즘 적용\n",
    "\n",
    "---\n",
    "### 5.1 Actor-Critic  알고리즘 구현\n",
    "\n",
    "강화학습에서 가장 기본으로 사용되는 라이브러리인 pytorch를 이용해 Actor-Critic  알고리즘을 구현해보겠습니다."
   ]
  },
  {
   "cell_type": "code",
   "execution_count": 30,
   "metadata": {},
   "outputs": [],
   "source": [
    "#Hyperparameters\n",
    "learning_rate = 0.0002\n",
    "gamma         = 0.98\n",
    "n_rollout     = 10\n",
    "\n",
    "class ActorCritic(nn.Module):\n",
    "    def __init__(self):\n",
    "        super(ActorCritic, self).__init__()\n",
    "        self.data = []\n",
    "        \n",
    "        self.fc1 = nn.Linear(4,256)\n",
    "        self.fc_pi = nn.Linear(256,2)\n",
    "        self.fc_v = nn.Linear(256,1)\n",
    "        self.optimizer = optim.Adam(self.parameters(), lr=learning_rate)\n",
    "        \n",
    "    def pi(self, x, softmax_dim = 0):\n",
    "        x = F.relu(self.fc1(x))\n",
    "        x = self.fc_pi(x)\n",
    "        prob = F.softmax(x, dim=softmax_dim)\n",
    "        return prob\n",
    "    \n",
    "    def v(self, x):\n",
    "        x = F.relu(self.fc1(x))\n",
    "        v = self.fc_v(x)\n",
    "        return v\n",
    "    \n",
    "    def put_data(self, transition):\n",
    "        self.data.append(transition)\n",
    "        \n",
    "    def make_batch(self):\n",
    "        s_lst, a_lst, r_lst, s_prime_lst, done_lst = [], [], [], [], []\n",
    "        for transition in self.data:\n",
    "            s,a,r,s_prime,done = transition\n",
    "            s_lst.append(s)\n",
    "            a_lst.append([a])\n",
    "            r_lst.append([r/100.0])\n",
    "            s_prime_lst.append(s_prime)\n",
    "            done_mask = 0.0 if done else 1.0\n",
    "            done_lst.append([done_mask])\n",
    "        \n",
    "        s_batch, a_batch, r_batch, s_prime_batch, done_batch = torch.tensor(s_lst, dtype=torch.float), torch.tensor(a_lst), \\\n",
    "                                                               torch.tensor(r_lst, dtype=torch.float), torch.tensor(s_prime_lst, dtype=torch.float), \\\n",
    "                                                               torch.tensor(done_lst, dtype=torch.float)\n",
    "        self.data = []\n",
    "        return s_batch, a_batch, r_batch, s_prime_batch, done_batch\n",
    "  \n",
    "    def train_net(self):\n",
    "        s, a, r, s_prime, done = self.make_batch()\n",
    "        td_target = r + gamma * self.v(s_prime) * done\n",
    "        delta = td_target - self.v(s)\n",
    "        \n",
    "        pi = self.pi(s, softmax_dim=1)\n",
    "        pi_a = pi.gather(1,a)\n",
    "        loss = -torch.log(pi_a) * delta.detach() + F.smooth_l1_loss(self.v(s), td_target.detach())\n",
    "\n",
    "        self.optimizer.zero_grad()\n",
    "        loss.mean().backward()\n",
    "        self.optimizer.step()         "
   ]
  },
  {
   "cell_type": "markdown",
   "metadata": {},
   "source": [
    "---\n",
    "### 5.2 Cartpole에 적용\n",
    "\n",
    "강화학습에서 가장 기본으로 사용되는 라이브러리인 pytorch를 이용해 Actor-Critic  알고리즘을 구현해보겠습니다.\n",
    "\n",
    "Actor-Critic 알고리즘을 이용해 Cartpole 환경을 학습시켜보겠습니다.\n",
    "\n",
    "학습에 시간이 조금 소요됩니다."
   ]
  },
  {
   "cell_type": "code",
   "execution_count": 31,
   "metadata": {},
   "outputs": [
    {
     "name": "stderr",
     "output_type": "stream",
     "text": [
      "C:\\Users\\302-26\\AppData\\Local\\Temp\\ipykernel_9396\\1215267816.py:41: UserWarning: Creating a tensor from a list of numpy.ndarrays is extremely slow. Please consider converting the list to a single numpy.ndarray with numpy.array() before converting to a tensor. (Triggered internally at C:\\actions-runner\\_work\\pytorch\\pytorch\\pytorch\\torch\\csrc\\utils\\tensor_new.cpp:257.)\n",
      "  s_batch, a_batch, r_batch, s_prime_batch, done_batch = torch.tensor(s_lst, dtype=torch.float), torch.tensor(a_lst), \\\n"
     ]
    },
    {
     "name": "stdout",
     "output_type": "stream",
     "text": [
      "# of episode :20, avg score : 20.8\n",
      "# of episode :40, avg score : 20.5\n",
      "# of episode :60, avg score : 16.2\n",
      "# of episode :80, avg score : 15.7\n",
      "# of episode :100, avg score : 18.7\n",
      "# of episode :120, avg score : 14.3\n",
      "# of episode :140, avg score : 19.6\n",
      "# of episode :160, avg score : 20.4\n",
      "# of episode :180, avg score : 24.9\n",
      "# of episode :200, avg score : 21.2\n",
      "# of episode :220, avg score : 23.6\n",
      "# of episode :240, avg score : 30.3\n",
      "# of episode :260, avg score : 30.9\n",
      "# of episode :280, avg score : 29.2\n",
      "# of episode :300, avg score : 41.4\n",
      "# of episode :320, avg score : 33.6\n",
      "# of episode :340, avg score : 54.9\n",
      "# of episode :360, avg score : 53.0\n",
      "# of episode :380, avg score : 53.4\n",
      "# of episode :400, avg score : 51.3\n",
      "# of episode :420, avg score : 72.8\n",
      "# of episode :440, avg score : 73.5\n",
      "# of episode :460, avg score : 81.2\n",
      "# of episode :480, avg score : 120.2\n",
      "# of episode :500, avg score : 124.5\n",
      "# of episode :520, avg score : 137.1\n",
      "# of episode :540, avg score : 157.1\n",
      "# of episode :560, avg score : 147.8\n",
      "# of episode :580, avg score : 206.9\n",
      "# of episode :600, avg score : 186.1\n",
      "# of episode :620, avg score : 271.6\n",
      "# of episode :640, avg score : 241.2\n",
      "# of episode :660, avg score : 278.5\n",
      "# of episode :680, avg score : 280.6\n",
      "# of episode :700, avg score : 243.6\n",
      "# of episode :720, avg score : 344.4\n",
      "# of episode :740, avg score : 350.7\n",
      "# of episode :760, avg score : 224.2\n",
      "# of episode :780, avg score : 379.4\n",
      "# of episode :800, avg score : 346.8\n",
      "# of episode :820, avg score : 270.3\n",
      "# of episode :840, avg score : 442.6\n",
      "# of episode :860, avg score : 471.9\n",
      "# of episode :880, avg score : 466.2\n",
      "# of episode :900, avg score : 205.5\n",
      "# of episode :920, avg score : 204.0\n",
      "# of episode :940, avg score : 311.6\n",
      "# of episode :960, avg score : 434.4\n",
      "# of episode :980, avg score : 383.3\n",
      "# of episode :1000, avg score : 241.1\n",
      "# of episode :1020, avg score : 392.0\n",
      "# of episode :1040, avg score : 482.1\n",
      "# of episode :1060, avg score : 426.1\n",
      "# of episode :1080, avg score : 206.7\n",
      "# of episode :1100, avg score : 232.5\n",
      "# of episode :1120, avg score : 593.2\n",
      "# of episode :1140, avg score : 2888.0\n",
      "# of episode :1160, avg score : 2310.9\n",
      "# of episode :1180, avg score : 292.0\n",
      "# of episode :1200, avg score : 241.4\n",
      "# of episode :1220, avg score : 261.4\n",
      "# of episode :1240, avg score : 280.2\n",
      "# of episode :1260, avg score : 307.1\n",
      "# of episode :1280, avg score : 459.8\n",
      "# of episode :1300, avg score : 336.1\n",
      "# of episode :1320, avg score : 895.8\n",
      "# of episode :1340, avg score : 479.4\n",
      "# of episode :1360, avg score : 395.6\n",
      "# of episode :1380, avg score : 741.3\n",
      "# of episode :1400, avg score : 524.3\n",
      "# of episode :1420, avg score : 401.4\n",
      "# of episode :1440, avg score : 1193.8\n",
      "# of episode :1460, avg score : 1021.8\n",
      "# of episode :1480, avg score : 10236.2\n",
      "# of episode :1500, avg score : 10603.7\n",
      "# of episode :1520, avg score : 179.9\n",
      "# of episode :1540, avg score : 207.1\n",
      "# of episode :1560, avg score : 297.9\n",
      "# of episode :1580, avg score : 12414.9\n",
      "# of episode :1600, avg score : 199.8\n",
      "# of episode :1620, avg score : 162.3\n",
      "# of episode :1640, avg score : 158.6\n",
      "# of episode :1660, avg score : 151.7\n",
      "# of episode :1680, avg score : 158.7\n",
      "# of episode :1700, avg score : 156.0\n",
      "# of episode :1720, avg score : 165.7\n",
      "# of episode :1740, avg score : 148.3\n",
      "# of episode :1760, avg score : 159.9\n",
      "# of episode :1780, avg score : 171.8\n",
      "# of episode :1800, avg score : 232.1\n",
      "# of episode :1820, avg score : 231.2\n",
      "# of episode :1840, avg score : 239.8\n",
      "# of episode :1860, avg score : 263.2\n",
      "# of episode :1880, avg score : 272.1\n",
      "# of episode :1900, avg score : 247.2\n",
      "# of episode :1920, avg score : 281.6\n",
      "# of episode :1940, avg score : 290.4\n",
      "# of episode :1960, avg score : 289.1\n",
      "# of episode :1980, avg score : 292.8\n"
     ]
    }
   ],
   "source": [
    "env = gym.make('CartPole-v1')\n",
    "model = ActorCritic()    \n",
    "print_interval = 20\n",
    "score = 0.0\n",
    "\n",
    "for n_epi in range(2000):\n",
    "    done = False\n",
    "    s, _ = env.reset(seed=random_seed)\n",
    "    while not done:\n",
    "        for t in range(n_rollout):\n",
    "            prob = model.pi(torch.from_numpy(s).float())\n",
    "            m = Categorical(prob)\n",
    "            a = m.sample().item()\n",
    "            s_prime, r, done, truncated, info = env.step(a)\n",
    "            model.put_data((s,a,r,s_prime,done))\n",
    "            \n",
    "            s = s_prime\n",
    "            score += r\n",
    "            \n",
    "            if done:\n",
    "                break                     \n",
    "        \n",
    "        model.train_net()\n",
    "        \n",
    "    if n_epi%print_interval==0 and n_epi!=0:\n",
    "        print(\"# of episode :{}, avg score : {:.1f}\".format(n_epi, score/print_interval))\n",
    "        score = 0.0\n",
    "env.close()"
   ]
  },
  {
   "cell_type": "markdown",
   "metadata": {},
   "source": [
    "학습된 모델을 이용해 Cartpole을 제어해보겠습니다."
   ]
  },
  {
   "cell_type": "code",
   "execution_count": 32,
   "metadata": {},
   "outputs": [
    {
     "data": {
      "image/png": "[encoded data removed]",
      "text/plain": [
       "<Figure size 500x500 with 1 Axes>"
      ]
     },
     "metadata": {},
     "output_type": "display_data"
    }
   ],
   "source": [
    "\n",
    "pi.eval()\n",
    "env_cartpole = gym.make('CartPole-v1', render_mode='rgb_array')\n",
    "s, _ = env_cartpole.reset(seed=random_seed)\n",
    "\n",
    "num_steps = 200\n",
    "\n",
    "episode_reward = 0\n",
    "for step in range(num_steps):\n",
    "\n",
    "    prob = pi(torch.from_numpy(s).float())\n",
    "    a = prob.argmax().item()  # Select the action with the highest probability\n",
    "    s, r, done, truncated, info = env_cartpole.step(a)\n",
    "\n",
    "    # Render the environment\n",
    "    render_env(env_cartpole)\n",
    "\n",
    "env_cartpole.close()"
   ]
  },
  {
   "cell_type": "markdown",
   "metadata": {},
   "source": [
    "---\n",
    "## 6. A2C 강화학습 알고리즘 적용\n",
    "\n",
    "---\n",
    "### 6.1 A2C  알고리즘 구현\n",
    "\n",
    "Actor-critic에서 향상된 알고리즘인 A2C 알고리즘을 구현해보겠습니다."
   ]
  },
  {
   "cell_type": "code",
   "execution_count": 33,
   "metadata": {},
   "outputs": [],
   "source": [
    "from torch.autograd import Variable\n",
    "\n",
    "# Hyper Parameters\n",
    "STATE_DIM = 4\n",
    "ACTION_DIM = 2\n",
    "STEP = 2000\n",
    "SAMPLE_NUMS = 30\n",
    "\n",
    "\n",
    "class ActorNetwork(nn.Module):\n",
    "\n",
    "    def __init__(self,input_size,hidden_size,action_size):\n",
    "        super(ActorNetwork, self).__init__()\n",
    "        self.fc1 = nn.Linear(input_size,hidden_size)\n",
    "        self.fc2 = nn.Linear(hidden_size,hidden_size)\n",
    "        self.fc3 = nn.Linear(hidden_size,action_size)\n",
    "\n",
    "    def forward(self,x):\n",
    "        out = F.relu(self.fc1(x))\n",
    "        out = F.relu(self.fc2(out))\n",
    "        out = F.log_softmax(self.fc3(out))\n",
    "        return out\n",
    "\n",
    "class ValueNetwork(nn.Module):\n",
    "\n",
    "    def __init__(self,input_size,hidden_size,output_size):\n",
    "        super(ValueNetwork, self).__init__()\n",
    "        self.fc1 = nn.Linear(input_size,hidden_size)\n",
    "        self.fc2 = nn.Linear(hidden_size,hidden_size)\n",
    "        self.fc3 = nn.Linear(hidden_size,output_size)\n",
    "\n",
    "    def forward(self,x):\n",
    "        out = F.relu(self.fc1(x))\n",
    "        out = F.relu(self.fc2(out))\n",
    "        out = self.fc3(out)\n",
    "        return out\n",
    "\n",
    "def roll_out(actor_network,task,sample_nums,value_network,init_state):\n",
    "    #task.reset()\n",
    "    states = []\n",
    "    actions = []\n",
    "    rewards = []\n",
    "    is_done = False\n",
    "    final_r = 0\n",
    "    state = init_state\n",
    "\n",
    "    for j in range(sample_nums):\n",
    "        states.append(state)\n",
    "        log_softmax_action = actor_network(Variable(torch.Tensor([state])))\n",
    "        softmax_action = torch.exp(log_softmax_action)\n",
    "        action = np.random.choice(ACTION_DIM,p=softmax_action.cpu().data.numpy()[0])\n",
    "        one_hot_action = [int(k == action) for k in range(ACTION_DIM)]\n",
    "        next_state,reward,done,_,_ = task.step(action)\n",
    "        #fix_reward = -10 if done else 1\n",
    "        actions.append(one_hot_action)\n",
    "        rewards.append(reward)\n",
    "        final_state = next_state\n",
    "        state = next_state\n",
    "        if done:\n",
    "            is_done = True\n",
    "            state, _ = task.reset(seed=random_seed)\n",
    "            break\n",
    "    if not is_done:\n",
    "        final_r = value_network(Variable(torch.Tensor([final_state]))).cpu().data.numpy()\n",
    "\n",
    "    return states,actions,rewards,final_r,state\n",
    "\n",
    "def discount_reward(r, gamma,final_r):\n",
    "    discounted_r = np.zeros_like(r)\n",
    "    running_add = final_r\n",
    "    for t in reversed(range(0, len(r))):\n",
    "        running_add = running_add * gamma + r[t]\n",
    "        discounted_r[t] = running_add\n",
    "    return discounted_r"
   ]
  },
  {
   "cell_type": "markdown",
   "metadata": {},
   "source": [
    "---\n",
    "### 6.2 Cartpole에 적용\n",
    "\n",
    "A2C 알고리즘을 이용해 Cartpole 환경을 학습시켜보겠습니다.\n",
    "\n",
    "알고리즘의 병렬 처리 설계 덕분에 학습 시간이 매우 빠릅니다."
   ]
  },
  {
   "cell_type": "code",
   "execution_count": 34,
   "metadata": {},
   "outputs": [
    {
     "name": "stderr",
     "output_type": "stream",
     "text": [
      "C:\\Users\\302-26\\AppData\\Local\\Temp\\ipykernel_9396\\927451816.py:21: UserWarning: Implicit dimension choice for log_softmax has been deprecated. Change the call to include dim=X as an argument.\n",
      "  out = F.log_softmax(self.fc3(out))\n",
      "C:\\Users\\302-26\\AppData\\Local\\Temp\\ipykernel_9396\\1429407140.py:33: FutureWarning: `torch.nn.utils.clip_grad_norm` is now deprecated in favor of `torch.nn.utils.clip_grad_norm_`.\n",
      "  torch.nn.utils.clip_grad_norm(actor_network.parameters(),0.5)\n",
      "c:\\Users\\302-26\\anaconda3\\Lib\\site-packages\\torch\\nn\\modules\\loss.py:610: UserWarning: Using a target size (torch.Size([29])) that is different to the input size (torch.Size([29, 1])). This will likely lead to incorrect results due to broadcasting. Please ensure they have the same size.\n",
      "  return F.mse_loss(input, target, reduction=self.reduction)\n",
      "C:\\Users\\302-26\\AppData\\Local\\Temp\\ipykernel_9396\\1429407140.py:43: FutureWarning: `torch.nn.utils.clip_grad_norm` is now deprecated in favor of `torch.nn.utils.clip_grad_norm_`.\n",
      "  torch.nn.utils.clip_grad_norm(value_network.parameters(),0.5)\n",
      "c:\\Users\\302-26\\anaconda3\\Lib\\site-packages\\torch\\nn\\modules\\loss.py:610: UserWarning: Using a target size (torch.Size([19])) that is different to the input size (torch.Size([19, 1])). This will likely lead to incorrect results due to broadcasting. Please ensure they have the same size.\n",
      "  return F.mse_loss(input, target, reduction=self.reduction)\n",
      "c:\\Users\\302-26\\anaconda3\\Lib\\site-packages\\torch\\nn\\modules\\loss.py:610: UserWarning: Using a target size (torch.Size([26])) that is different to the input size (torch.Size([26, 1])). This will likely lead to incorrect results due to broadcasting. Please ensure they have the same size.\n",
      "  return F.mse_loss(input, target, reduction=self.reduction)\n",
      "C:\\Users\\302-26\\AppData\\Local\\Temp\\ipykernel_9396\\927451816.py:73: DeprecationWarning: Conversion of an array with ndim > 0 to a scalar is deprecated, and will error in future. Ensure you extract a single element from your array before performing this operation. (Deprecated NumPy 1.25.)\n",
      "  discounted_r[t] = running_add\n",
      "c:\\Users\\302-26\\anaconda3\\Lib\\site-packages\\torch\\nn\\modules\\loss.py:610: UserWarning: Using a target size (torch.Size([30])) that is different to the input size (torch.Size([30, 1])). This will likely lead to incorrect results due to broadcasting. Please ensure they have the same size.\n",
      "  return F.mse_loss(input, target, reduction=self.reduction)\n",
      "c:\\Users\\302-26\\anaconda3\\Lib\\site-packages\\torch\\nn\\modules\\loss.py:610: UserWarning: Using a target size (torch.Size([4])) that is different to the input size (torch.Size([4, 1])). This will likely lead to incorrect results due to broadcasting. Please ensure they have the same size.\n",
      "  return F.mse_loss(input, target, reduction=self.reduction)\n",
      "c:\\Users\\302-26\\anaconda3\\Lib\\site-packages\\torch\\nn\\modules\\loss.py:610: UserWarning: Using a target size (torch.Size([11])) that is different to the input size (torch.Size([11, 1])). This will likely lead to incorrect results due to broadcasting. Please ensure they have the same size.\n",
      "  return F.mse_loss(input, target, reduction=self.reduction)\n",
      "c:\\Users\\302-26\\anaconda3\\Lib\\site-packages\\torch\\nn\\modules\\loss.py:610: UserWarning: Using a target size (torch.Size([14])) that is different to the input size (torch.Size([14, 1])). This will likely lead to incorrect results due to broadcasting. Please ensure they have the same size.\n",
      "  return F.mse_loss(input, target, reduction=self.reduction)\n",
      "c:\\Users\\302-26\\anaconda3\\Lib\\site-packages\\torch\\nn\\modules\\loss.py:610: UserWarning: Using a target size (torch.Size([12])) that is different to the input size (torch.Size([12, 1])). This will likely lead to incorrect results due to broadcasting. Please ensure they have the same size.\n",
      "  return F.mse_loss(input, target, reduction=self.reduction)\n",
      "c:\\Users\\302-26\\anaconda3\\Lib\\site-packages\\torch\\nn\\modules\\loss.py:610: UserWarning: Using a target size (torch.Size([15])) that is different to the input size (torch.Size([15, 1])). This will likely lead to incorrect results due to broadcasting. Please ensure they have the same size.\n",
      "  return F.mse_loss(input, target, reduction=self.reduction)\n",
      "c:\\Users\\302-26\\anaconda3\\Lib\\site-packages\\torch\\nn\\modules\\loss.py:610: UserWarning: Using a target size (torch.Size([13])) that is different to the input size (torch.Size([13, 1])). This will likely lead to incorrect results due to broadcasting. Please ensure they have the same size.\n",
      "  return F.mse_loss(input, target, reduction=self.reduction)\n",
      "c:\\Users\\302-26\\anaconda3\\Lib\\site-packages\\torch\\nn\\modules\\loss.py:610: UserWarning: Using a target size (torch.Size([22])) that is different to the input size (torch.Size([22, 1])). This will likely lead to incorrect results due to broadcasting. Please ensure they have the same size.\n",
      "  return F.mse_loss(input, target, reduction=self.reduction)\n",
      "c:\\Users\\302-26\\anaconda3\\Lib\\site-packages\\torch\\nn\\modules\\loss.py:610: UserWarning: Using a target size (torch.Size([9])) that is different to the input size (torch.Size([9, 1])). This will likely lead to incorrect results due to broadcasting. Please ensure they have the same size.\n",
      "  return F.mse_loss(input, target, reduction=self.reduction)\n",
      "c:\\Users\\302-26\\anaconda3\\Lib\\site-packages\\torch\\nn\\modules\\loss.py:610: UserWarning: Using a target size (torch.Size([16])) that is different to the input size (torch.Size([16, 1])). This will likely lead to incorrect results due to broadcasting. Please ensure they have the same size.\n",
      "  return F.mse_loss(input, target, reduction=self.reduction)\n",
      "c:\\Users\\302-26\\anaconda3\\Lib\\site-packages\\torch\\nn\\modules\\loss.py:610: UserWarning: Using a target size (torch.Size([17])) that is different to the input size (torch.Size([17, 1])). This will likely lead to incorrect results due to broadcasting. Please ensure they have the same size.\n",
      "  return F.mse_loss(input, target, reduction=self.reduction)\n",
      "c:\\Users\\302-26\\anaconda3\\Lib\\site-packages\\torch\\nn\\modules\\loss.py:610: UserWarning: Using a target size (torch.Size([10])) that is different to the input size (torch.Size([10, 1])). This will likely lead to incorrect results due to broadcasting. Please ensure they have the same size.\n",
      "  return F.mse_loss(input, target, reduction=self.reduction)\n",
      "c:\\Users\\302-26\\anaconda3\\Lib\\site-packages\\torch\\nn\\modules\\loss.py:610: UserWarning: Using a target size (torch.Size([23])) that is different to the input size (torch.Size([23, 1])). This will likely lead to incorrect results due to broadcasting. Please ensure they have the same size.\n",
      "  return F.mse_loss(input, target, reduction=self.reduction)\n",
      "c:\\Users\\302-26\\anaconda3\\Lib\\site-packages\\torch\\nn\\modules\\loss.py:610: UserWarning: Using a target size (torch.Size([1])) that is different to the input size (torch.Size([1, 1])). This will likely lead to incorrect results due to broadcasting. Please ensure they have the same size.\n",
      "  return F.mse_loss(input, target, reduction=self.reduction)\n",
      "c:\\Users\\302-26\\anaconda3\\Lib\\site-packages\\torch\\nn\\modules\\loss.py:610: UserWarning: Using a target size (torch.Size([8])) that is different to the input size (torch.Size([8, 1])). This will likely lead to incorrect results due to broadcasting. Please ensure they have the same size.\n",
      "  return F.mse_loss(input, target, reduction=self.reduction)\n",
      "c:\\Users\\302-26\\anaconda3\\Lib\\site-packages\\torch\\nn\\modules\\loss.py:610: UserWarning: Using a target size (torch.Size([6])) that is different to the input size (torch.Size([6, 1])). This will likely lead to incorrect results due to broadcasting. Please ensure they have the same size.\n",
      "  return F.mse_loss(input, target, reduction=self.reduction)\n",
      "c:\\Users\\302-26\\anaconda3\\Lib\\site-packages\\gymnasium\\envs\\registration.py:519: DeprecationWarning: \u001b[33mWARN: The environment CartPole-v0 is out of date. You should consider upgrading to version `v1`.\u001b[0m\n",
      "  logger.deprecation(\n"
     ]
    },
    {
     "name": "stdout",
     "output_type": "stream",
     "text": [
      "step: 50 test result: 200.0\n"
     ]
    },
    {
     "name": "stderr",
     "output_type": "stream",
     "text": [
      "c:\\Users\\302-26\\anaconda3\\Lib\\site-packages\\torch\\nn\\modules\\loss.py:610: UserWarning: Using a target size (torch.Size([5])) that is different to the input size (torch.Size([5, 1])). This will likely lead to incorrect results due to broadcasting. Please ensure they have the same size.\n",
      "  return F.mse_loss(input, target, reduction=self.reduction)\n",
      "c:\\Users\\302-26\\anaconda3\\Lib\\site-packages\\torch\\nn\\modules\\loss.py:610: UserWarning: Using a target size (torch.Size([27])) that is different to the input size (torch.Size([27, 1])). This will likely lead to incorrect results due to broadcasting. Please ensure they have the same size.\n",
      "  return F.mse_loss(input, target, reduction=self.reduction)\n",
      "c:\\Users\\302-26\\anaconda3\\Lib\\site-packages\\torch\\nn\\modules\\loss.py:610: UserWarning: Using a target size (torch.Size([18])) that is different to the input size (torch.Size([18, 1])). This will likely lead to incorrect results due to broadcasting. Please ensure they have the same size.\n",
      "  return F.mse_loss(input, target, reduction=self.reduction)\n"
     ]
    },
    {
     "name": "stdout",
     "output_type": "stream",
     "text": [
      "step: 100 test result: 180.0\n"
     ]
    },
    {
     "name": "stderr",
     "output_type": "stream",
     "text": [
      "c:\\Users\\302-26\\anaconda3\\Lib\\site-packages\\torch\\nn\\modules\\loss.py:610: UserWarning: Using a target size (torch.Size([28])) that is different to the input size (torch.Size([28, 1])). This will likely lead to incorrect results due to broadcasting. Please ensure they have the same size.\n",
      "  return F.mse_loss(input, target, reduction=self.reduction)\n"
     ]
    },
    {
     "name": "stdout",
     "output_type": "stream",
     "text": [
      "step: 150 test result: 61.0\n"
     ]
    },
    {
     "name": "stderr",
     "output_type": "stream",
     "text": [
      "c:\\Users\\302-26\\anaconda3\\Lib\\site-packages\\torch\\nn\\modules\\loss.py:610: UserWarning: Using a target size (torch.Size([25])) that is different to the input size (torch.Size([25, 1])). This will likely lead to incorrect results due to broadcasting. Please ensure they have the same size.\n",
      "  return F.mse_loss(input, target, reduction=self.reduction)\n",
      "c:\\Users\\302-26\\anaconda3\\Lib\\site-packages\\torch\\nn\\modules\\loss.py:610: UserWarning: Using a target size (torch.Size([3])) that is different to the input size (torch.Size([3, 1])). This will likely lead to incorrect results due to broadcasting. Please ensure they have the same size.\n",
      "  return F.mse_loss(input, target, reduction=self.reduction)\n",
      "c:\\Users\\302-26\\anaconda3\\Lib\\site-packages\\torch\\nn\\modules\\loss.py:610: UserWarning: Using a target size (torch.Size([20])) that is different to the input size (torch.Size([20, 1])). This will likely lead to incorrect results due to broadcasting. Please ensure they have the same size.\n",
      "  return F.mse_loss(input, target, reduction=self.reduction)\n"
     ]
    },
    {
     "name": "stdout",
     "output_type": "stream",
     "text": [
      "step: 200 test result: 87.0\n"
     ]
    },
    {
     "name": "stderr",
     "output_type": "stream",
     "text": [
      "c:\\Users\\302-26\\anaconda3\\Lib\\site-packages\\torch\\nn\\modules\\loss.py:610: UserWarning: Using a target size (torch.Size([2])) that is different to the input size (torch.Size([2, 1])). This will likely lead to incorrect results due to broadcasting. Please ensure they have the same size.\n",
      "  return F.mse_loss(input, target, reduction=self.reduction)\n",
      "c:\\Users\\302-26\\anaconda3\\Lib\\site-packages\\torch\\nn\\modules\\loss.py:610: UserWarning: Using a target size (torch.Size([24])) that is different to the input size (torch.Size([24, 1])). This will likely lead to incorrect results due to broadcasting. Please ensure they have the same size.\n",
      "  return F.mse_loss(input, target, reduction=self.reduction)\n",
      "c:\\Users\\302-26\\anaconda3\\Lib\\site-packages\\torch\\nn\\modules\\loss.py:610: UserWarning: Using a target size (torch.Size([21])) that is different to the input size (torch.Size([21, 1])). This will likely lead to incorrect results due to broadcasting. Please ensure they have the same size.\n",
      "  return F.mse_loss(input, target, reduction=self.reduction)\n"
     ]
    },
    {
     "name": "stdout",
     "output_type": "stream",
     "text": [
      "step: 250 test result: 24.0\n",
      "step: 300 test result: 103.0\n",
      "step: 350 test result: 200.0\n"
     ]
    },
    {
     "name": "stderr",
     "output_type": "stream",
     "text": [
      "c:\\Users\\302-26\\anaconda3\\Lib\\site-packages\\torch\\nn\\modules\\loss.py:610: UserWarning: Using a target size (torch.Size([7])) that is different to the input size (torch.Size([7, 1])). This will likely lead to incorrect results due to broadcasting. Please ensure they have the same size.\n",
      "  return F.mse_loss(input, target, reduction=self.reduction)\n"
     ]
    },
    {
     "name": "stdout",
     "output_type": "stream",
     "text": [
      "step: 400 test result: 96.0\n",
      "step: 450 test result: 127.0\n",
      "step: 500 test result: 182.0\n",
      "step: 550 test result: 200.0\n",
      "step: 600 test result: 200.0\n",
      "step: 650 test result: 66.0\n",
      "step: 700 test result: 13.0\n",
      "step: 750 test result: 11.0\n",
      "step: 800 test result: 108.0\n",
      "step: 850 test result: 45.0\n",
      "step: 900 test result: 178.0\n",
      "step: 950 test result: 200.0\n",
      "step: 1000 test result: 123.0\n",
      "step: 1050 test result: 141.0\n",
      "step: 1100 test result: 94.0\n",
      "step: 1150 test result: 107.0\n",
      "step: 1200 test result: 188.0\n",
      "step: 1250 test result: 200.0\n",
      "step: 1300 test result: 200.0\n",
      "step: 1350 test result: 194.0\n",
      "step: 1400 test result: 200.0\n",
      "step: 1450 test result: 200.0\n",
      "step: 1500 test result: 200.0\n",
      "step: 1550 test result: 200.0\n",
      "step: 1600 test result: 200.0\n",
      "step: 1650 test result: 200.0\n",
      "step: 1700 test result: 200.0\n",
      "step: 1750 test result: 200.0\n",
      "step: 1800 test result: 200.0\n",
      "step: 1850 test result: 200.0\n",
      "step: 1900 test result: 200.0\n",
      "step: 1950 test result: 200.0\n",
      "step: 2000 test result: 200.0\n"
     ]
    }
   ],
   "source": [
    "\n",
    "\n",
    "# init a task generator for data fetching\n",
    "task = gym.make(\"CartPole-v1\")\n",
    "init_state, _ = task.reset(seed=random_seed)\n",
    "\n",
    "# init value network\n",
    "value_network = ValueNetwork(input_size = STATE_DIM,hidden_size = 40,output_size = 1)\n",
    "value_network_optim = torch.optim.Adam(value_network.parameters(),lr=0.01)\n",
    "\n",
    "# init actor network\n",
    "actor_network = ActorNetwork(STATE_DIM,40,ACTION_DIM)\n",
    "actor_network_optim = torch.optim.Adam(actor_network.parameters(),lr = 0.01)\n",
    "\n",
    "steps =[]\n",
    "task_episodes =[]\n",
    "test_results =[]\n",
    "\n",
    "for step in range(STEP):\n",
    "    states,actions,rewards,final_r,current_state = roll_out(actor_network,task,SAMPLE_NUMS,value_network,init_state)\n",
    "    init_state = current_state\n",
    "    actions_var = Variable(torch.Tensor(actions).view(-1,ACTION_DIM))\n",
    "    states_var = Variable(torch.Tensor(states).view(-1,STATE_DIM))\n",
    "\n",
    "    # train actor network\n",
    "    actor_network_optim.zero_grad()\n",
    "    log_softmax_actions = actor_network(states_var)\n",
    "    vs = value_network(states_var).detach()\n",
    "    # calculate qs\n",
    "    qs = Variable(torch.Tensor(discount_reward(rewards,0.99,final_r)))\n",
    "\n",
    "    advantages = qs - vs\n",
    "    actor_network_loss = - torch.mean(torch.sum(log_softmax_actions*actions_var,1)* advantages)\n",
    "    actor_network_loss.backward()\n",
    "    torch.nn.utils.clip_grad_norm(actor_network.parameters(),0.5)\n",
    "    actor_network_optim.step()\n",
    "\n",
    "    # train value network\n",
    "    value_network_optim.zero_grad()\n",
    "    target_values = qs\n",
    "    values = value_network(states_var)\n",
    "    criterion = nn.MSELoss()\n",
    "    value_network_loss = criterion(values,target_values)\n",
    "    value_network_loss.backward()\n",
    "    torch.nn.utils.clip_grad_norm(value_network.parameters(),0.5)\n",
    "    value_network_optim.step()\n",
    "\n",
    "    # Testing\n",
    "    if (step + 1) % 50== 0:\n",
    "            result = 0\n",
    "            test_task = gym.make(\"CartPole-v0\")\n",
    "            for test_epi in range(10):\n",
    "                state, _ = test_task.reset(seed=random_seed)\n",
    "                for test_step in range(200):\n",
    "                    softmax_action = torch.exp(actor_network(Variable(torch.Tensor([state]))))\n",
    "                    #print(softmax_action.data)\n",
    "                    action = np.argmax(softmax_action.data.numpy()[0])\n",
    "                    next_state,reward,done,_,_ = test_task.step(action)\n",
    "                    result += reward\n",
    "                    state = next_state\n",
    "                    if done:\n",
    "                        break\n",
    "            print(\"step:\",step+1,\"test result:\",result/10.0)\n",
    "            steps.append(step+1)\n",
    "            test_results.append(result/10)"
   ]
  },
  {
   "cell_type": "markdown",
   "metadata": {},
   "source": [
    "학습된 모델을 이용해 Cartpole을 제어해보겠습니다.\n",
    "\n",
    "### [TODO] Cartpole 환경을 시각화하는 코드를 완성해주세요. "
   ]
  },
  {
   "cell_type": "code",
   "execution_count": 35,
   "metadata": {},
   "outputs": [
    {
     "data": {
      "image/png": "[encoded data removed]",
      "text/plain": [
       "<Figure size 500x500 with 1 Axes>"
      ]
     },
     "metadata": {},
     "output_type": "display_data"
    }
   ],
   "source": [
    "\n",
    "env_cartpole = gym.make('CartPole-v1', render_mode='rgb_array')\n",
    "s, _ = env_cartpole.reset(seed=random_seed)\n",
    "\n",
    "num_steps = 200\n",
    "\n",
    "episode_reward = 0\n",
    "for step in range(num_steps):\n",
    "    \n",
    "    #s = torch.from_numpy(s).float()\n",
    "    a = torch.exp(actor_network(Variable(torch.Tensor([s]))))\n",
    "    a = np.argmax(a.data.numpy()[0])  \n",
    "    s, r, done, truncated, info = env_cartpole.step(a.item())\n",
    "\n",
    "    # Render the environment\n",
    "    render_env(env_cartpole)\n",
    "    \n",
    "env_cartpole.close()"
   ]
  }
 ],
 "metadata": {
  "kernelspec": {
   "display_name": "base",
   "language": "python",
   "name": "python3"
  },
  "language_info": {
   "codemirror_mode": {
    "name": "ipython",
    "version": 3
   },
   "file_extension": ".py",
   "mimetype": "text/x-python",
   "name": "python",
   "nbconvert_exporter": "python",
   "pygments_lexer": "ipython3",
   "version": "3.12.7"
  },
  "orig_nbformat": 4
 },
 "nbformat": 4,
 "nbformat_minor": 2
}
